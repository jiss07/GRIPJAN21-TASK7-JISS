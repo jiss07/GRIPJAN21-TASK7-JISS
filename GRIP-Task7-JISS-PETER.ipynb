{
 "cells": [
  {
   "cell_type": "markdown",
   "metadata": {
    "id": "EEhMfo2otOmO"
   },
   "source": [
    "# Author: JISS PETER , Data Science Intern @ The Spark Foundation\n",
    "The task related dataset is available on the web url https://finance.yahoo.com and https://bit.ly/36fFPI6. This dataset can be downloaded locally or can access directly in the code."
   ]
  },
  {
   "cell_type": "markdown",
   "metadata": {
    "id": "xRRtUmM2MkqW"
   },
   "source": [
    "# Data Science & Business Analytics Internship at The Sparks Foundation.\n",
    "#### #GRIPJAN21\n",
    "\n",
    "## GRIP-Task 7 - Stock Market Prediction using Numerical and Textual Analysis\n",
    "\n",
    "### Task Description\n",
    "\n",
    "* Create a hybrid model for stock price/performance prediction using numerical analysis of historical stock prices, and sentimental analysis of news headlines\n",
    "* Stock to analyze and predict - SENSEX (S&P BSE SENSEX)\n",
    "* Download historical stock prices from finance.yahoo.com\n",
    "* Download textual (news) data from https://bit.ly/36fFPI6"
   ]
  },
  {
   "cell_type": "markdown",
   "metadata": {
    "id": "ELJGCwZJMkqW"
   },
   "source": [
    "# Import all libraries"
   ]
  },
  {
   "cell_type": "code",
   "execution_count": null,
   "metadata": {
    "id": "YKSCc6w9MkqW"
   },
   "outputs": [],
   "source": [
    "import pandas as pd\n",
    "import numpy as np\n",
    "import matplotlib.pyplot as plt\n",
    "%matplotlib inline\n",
    "import seaborn as sns\n",
    "import datetime\n",
    "from datetime import date \n",
    "import yfinance as yf\n",
    "pd.set_option('display.max_columns', None)\n",
    "pd.set_option('display.max_rows', None)"
   ]
  },
  {
   "cell_type": "markdown",
   "metadata": {
    "id": "9JNhxOSXMkqX"
   },
   "source": [
    "# 1. Numerical Analysis"
   ]
  },
  {
   "cell_type": "code",
   "execution_count": null,
   "metadata": {
    "colab": {
     "base_uri": "https://localhost:8080/",
     "height": 235
    },
    "id": "sdyWYPp3MkqX",
    "outputId": "9a41489d-e63d-422e-ea7b-e270ec70b9d2"
   },
   "outputs": [
    {
     "data": {
      "text/html": [
       "<div>\n",
       "<style scoped>\n",
       "    .dataframe tbody tr th:only-of-type {\n",
       "        vertical-align: middle;\n",
       "    }\n",
       "\n",
       "    .dataframe tbody tr th {\n",
       "        vertical-align: top;\n",
       "    }\n",
       "\n",
       "    .dataframe thead th {\n",
       "        text-align: right;\n",
       "    }\n",
       "</style>\n",
       "<table border=\"1\" class=\"dataframe\">\n",
       "  <thead>\n",
       "    <tr style=\"text-align: right;\">\n",
       "      <th></th>\n",
       "      <th>High</th>\n",
       "      <th>Low</th>\n",
       "      <th>Open</th>\n",
       "      <th>Close</th>\n",
       "      <th>Volume</th>\n",
       "      <th>Adj Close</th>\n",
       "    </tr>\n",
       "    <tr>\n",
       "      <th>Date</th>\n",
       "      <th></th>\n",
       "      <th></th>\n",
       "      <th></th>\n",
       "      <th></th>\n",
       "      <th></th>\n",
       "      <th></th>\n",
       "    </tr>\n",
       "  </thead>\n",
       "  <tbody>\n",
       "    <tr>\n",
       "      <th>2019-12-24</th>\n",
       "      <td>157.710007</td>\n",
       "      <td>157.119995</td>\n",
       "      <td>157.479996</td>\n",
       "      <td>157.380005</td>\n",
       "      <td>8989200.0</td>\n",
       "      <td>155.730255</td>\n",
       "    </tr>\n",
       "    <tr>\n",
       "      <th>2019-12-26</th>\n",
       "      <td>158.729996</td>\n",
       "      <td>157.399994</td>\n",
       "      <td>157.559998</td>\n",
       "      <td>158.669998</td>\n",
       "      <td>14520600.0</td>\n",
       "      <td>157.006729</td>\n",
       "    </tr>\n",
       "    <tr>\n",
       "      <th>2019-12-27</th>\n",
       "      <td>159.550003</td>\n",
       "      <td>158.220001</td>\n",
       "      <td>159.449997</td>\n",
       "      <td>158.960007</td>\n",
       "      <td>18412800.0</td>\n",
       "      <td>157.293686</td>\n",
       "    </tr>\n",
       "    <tr>\n",
       "      <th>2019-12-30</th>\n",
       "      <td>159.020004</td>\n",
       "      <td>156.729996</td>\n",
       "      <td>158.990005</td>\n",
       "      <td>157.589996</td>\n",
       "      <td>16348400.0</td>\n",
       "      <td>155.938049</td>\n",
       "    </tr>\n",
       "    <tr>\n",
       "      <th>2019-12-31</th>\n",
       "      <td>157.770004</td>\n",
       "      <td>156.449997</td>\n",
       "      <td>156.770004</td>\n",
       "      <td>157.699997</td>\n",
       "      <td>18369400.0</td>\n",
       "      <td>156.046890</td>\n",
       "    </tr>\n",
       "  </tbody>\n",
       "</table>\n",
       "</div>"
      ],
      "text/plain": [
       "                  High         Low        Open       Close      Volume  \\\n",
       "Date                                                                     \n",
       "2019-12-24  157.710007  157.119995  157.479996  157.380005   8989200.0   \n",
       "2019-12-26  158.729996  157.399994  157.559998  158.669998  14520600.0   \n",
       "2019-12-27  159.550003  158.220001  159.449997  158.960007  18412800.0   \n",
       "2019-12-30  159.020004  156.729996  158.990005  157.589996  16348400.0   \n",
       "2019-12-31  157.770004  156.449997  156.770004  157.699997  18369400.0   \n",
       "\n",
       "             Adj Close  \n",
       "Date                    \n",
       "2019-12-24  155.730255  \n",
       "2019-12-26  157.006729  \n",
       "2019-12-27  157.293686  \n",
       "2019-12-30  155.938049  \n",
       "2019-12-31  156.046890  "
      ]
     },
     "execution_count": 2,
     "metadata": {
      "tags": []
     },
     "output_type": "execute_result"
    }
   ],
   "source": [
    "#Web data reader is extension of pandas library to communicate with frequently updating data\n",
    "import pandas_datareader.data as web\n",
    "from pandas import Series, DataFrame\n",
    "start = datetime.datetime(2000, 1, 1)\n",
    "end = datetime.datetime(2019, 12, 31)\n",
    "\n",
    "df = web.DataReader(\"MSFT\", 'yahoo', start, end)\n",
    "df.tail()\n"
   ]
  },
  {
   "cell_type": "markdown",
   "metadata": {
    "id": "VP-pUNIBMkqY"
   },
   "source": [
    "* We have the data of Microsoft stocks of 19 years from January 2000 till December 2019.\n",
    "\n",
    "* We analyse stocks using two measurements- Rolling mean and Return rate.\n",
    "\n",
    "* Rolling Mean - Rolling is a very useful operation for time series data. Rolling means creating a rolling window with a specified size and perform calculations on the data in this window which, of course, rolls through the data. In pandas\n",
    "\n",
    "* Moving Average- technical analysis tool that smooths out price data by creating a constantly updated average price."
   ]
  },
  {
   "cell_type": "markdown",
   "metadata": {
    "id": "L8lB_56BMkqY"
   },
   "source": [
    "# A) Data Analysis"
   ]
  },
  {
   "cell_type": "code",
   "execution_count": null,
   "metadata": {
    "colab": {
     "base_uri": "https://localhost:8080/",
     "height": 235
    },
    "id": "K61FYN74MkqY",
    "outputId": "b00e4bf7-9c49-4919-f1ea-0197fa30e230"
   },
   "outputs": [
    {
     "data": {
      "text/html": [
       "<div>\n",
       "<style scoped>\n",
       "    .dataframe tbody tr th:only-of-type {\n",
       "        vertical-align: middle;\n",
       "    }\n",
       "\n",
       "    .dataframe tbody tr th {\n",
       "        vertical-align: top;\n",
       "    }\n",
       "\n",
       "    .dataframe thead th {\n",
       "        text-align: right;\n",
       "    }\n",
       "</style>\n",
       "<table border=\"1\" class=\"dataframe\">\n",
       "  <thead>\n",
       "    <tr style=\"text-align: right;\">\n",
       "      <th></th>\n",
       "      <th>High</th>\n",
       "      <th>Low</th>\n",
       "      <th>Open</th>\n",
       "      <th>Close</th>\n",
       "      <th>Volume</th>\n",
       "      <th>Adj Close</th>\n",
       "    </tr>\n",
       "    <tr>\n",
       "      <th>Date</th>\n",
       "      <th></th>\n",
       "      <th></th>\n",
       "      <th></th>\n",
       "      <th></th>\n",
       "      <th></th>\n",
       "      <th></th>\n",
       "    </tr>\n",
       "  </thead>\n",
       "  <tbody>\n",
       "    <tr>\n",
       "      <th>2000-01-03</th>\n",
       "      <td>59.3125</td>\n",
       "      <td>56.00000</td>\n",
       "      <td>58.68750</td>\n",
       "      <td>58.28125</td>\n",
       "      <td>53228400.0</td>\n",
       "      <td>37.102634</td>\n",
       "    </tr>\n",
       "    <tr>\n",
       "      <th>2000-01-04</th>\n",
       "      <td>58.5625</td>\n",
       "      <td>56.12500</td>\n",
       "      <td>56.78125</td>\n",
       "      <td>56.31250</td>\n",
       "      <td>54119000.0</td>\n",
       "      <td>35.849308</td>\n",
       "    </tr>\n",
       "    <tr>\n",
       "      <th>2000-01-05</th>\n",
       "      <td>58.1875</td>\n",
       "      <td>54.68750</td>\n",
       "      <td>55.56250</td>\n",
       "      <td>56.90625</td>\n",
       "      <td>64059600.0</td>\n",
       "      <td>36.227283</td>\n",
       "    </tr>\n",
       "    <tr>\n",
       "      <th>2000-01-06</th>\n",
       "      <td>56.9375</td>\n",
       "      <td>54.18750</td>\n",
       "      <td>56.09375</td>\n",
       "      <td>55.00000</td>\n",
       "      <td>54976600.0</td>\n",
       "      <td>35.013741</td>\n",
       "    </tr>\n",
       "    <tr>\n",
       "      <th>2000-01-07</th>\n",
       "      <td>56.1250</td>\n",
       "      <td>53.65625</td>\n",
       "      <td>54.31250</td>\n",
       "      <td>55.71875</td>\n",
       "      <td>62013600.0</td>\n",
       "      <td>35.471302</td>\n",
       "    </tr>\n",
       "  </tbody>\n",
       "</table>\n",
       "</div>"
      ],
      "text/plain": [
       "               High       Low      Open     Close      Volume  Adj Close\n",
       "Date                                                                    \n",
       "2000-01-03  59.3125  56.00000  58.68750  58.28125  53228400.0  37.102634\n",
       "2000-01-04  58.5625  56.12500  56.78125  56.31250  54119000.0  35.849308\n",
       "2000-01-05  58.1875  54.68750  55.56250  56.90625  64059600.0  36.227283\n",
       "2000-01-06  56.9375  54.18750  56.09375  55.00000  54976600.0  35.013741\n",
       "2000-01-07  56.1250  53.65625  54.31250  55.71875  62013600.0  35.471302"
      ]
     },
     "execution_count": 3,
     "metadata": {
      "tags": []
     },
     "output_type": "execute_result"
    }
   ],
   "source": [
    "df.head()"
   ]
  },
  {
   "cell_type": "code",
   "execution_count": null,
   "metadata": {
    "colab": {
     "base_uri": "https://localhost:8080/"
    },
    "id": "H9_1JkHlMkqZ",
    "outputId": "db9e8552-cdb5-4506-e03a-386aaa2655d2"
   },
   "outputs": [
    {
     "data": {
      "text/plain": [
       "High         0\n",
       "Low          0\n",
       "Open         0\n",
       "Close        0\n",
       "Volume       0\n",
       "Adj Close    0\n",
       "dtype: int64"
      ]
     },
     "execution_count": 4,
     "metadata": {
      "tags": []
     },
     "output_type": "execute_result"
    }
   ],
   "source": [
    "df.isnull().sum()"
   ]
  },
  {
   "cell_type": "code",
   "execution_count": null,
   "metadata": {
    "colab": {
     "base_uri": "https://localhost:8080/"
    },
    "id": "t-1qHP4QMkqZ",
    "outputId": "777d2dc8-a5db-410b-d484-9e801ee50fb6"
   },
   "outputs": [
    {
     "data": {
      "text/plain": [
       "Date\n",
       "2019-12-17    139.752159\n",
       "2019-12-18    139.893509\n",
       "2019-12-19    140.054802\n",
       "2019-12-20    140.273019\n",
       "2019-12-23    140.473642\n",
       "2019-12-24    140.685370\n",
       "2019-12-26    140.955960\n",
       "2019-12-27    141.205044\n",
       "2019-12-30    141.434773\n",
       "2019-12-31    141.630108\n",
       "Name: Adj Close, dtype: float64"
      ]
     },
     "execution_count": 5,
     "metadata": {
      "tags": []
     },
     "output_type": "execute_result"
    }
   ],
   "source": [
    "close_px = df['Adj Close']\n",
    "mavg = close_px.rolling(window = 100).mean()\n",
    "mavg.tail(10)"
   ]
  },
  {
   "cell_type": "code",
   "execution_count": null,
   "metadata": {
    "colab": {
     "base_uri": "https://localhost:8080/"
    },
    "id": "Tx4oTxGLMkqZ",
    "outputId": "d3d0328e-dbfc-4f3a-a37d-0d8faa7be4e8"
   },
   "outputs": [
    {
     "data": {
      "text/plain": [
       "(5031, 6)"
      ]
     },
     "execution_count": 6,
     "metadata": {
      "tags": []
     },
     "output_type": "execute_result"
    }
   ],
   "source": [
    "df.shape"
   ]
  },
  {
   "cell_type": "markdown",
   "metadata": {
    "id": "1rUDHs2sMkqa"
   },
   "source": [
    "* The profit or loss calculation is usually determined by the closing price of a stock; hence we will consider the closing price as the target variable."
   ]
  },
  {
   "cell_type": "markdown",
   "metadata": {
    "id": "HgbpFOtcMkqa"
   },
   "source": [
    "# B) Data Visualization"
   ]
  },
  {
   "cell_type": "markdown",
   "metadata": {
    "id": "E0Z3fjeyMkqa"
   },
   "source": [
    "# i) Movement of Data: Closing Stock"
   ]
  },
  {
   "cell_type": "code",
   "execution_count": null,
   "metadata": {
    "colab": {
     "base_uri": "https://localhost:8080/",
     "height": 282
    },
    "id": "S54iibL7Mkqa",
    "outputId": "fbc6f939-304c-4bcc-fc5e-87cb45728896"
   },
   "outputs": [
    {
     "data": {
      "text/plain": [
       "<matplotlib.axes._subplots.AxesSubplot at 0x7f35f0a885f8>"
      ]
     },
     "execution_count": 7,
     "metadata": {
      "tags": []
     },
     "output_type": "execute_result"
    },
    {
     "data": {
      "image/png": "[encoded data removed]",
      "text/plain": [
       "<Figure size 432x288 with 1 Axes>"
      ]
     },
     "metadata": {
      "needs_background": "light",
      "tags": []
     },
     "output_type": "display_data"
    }
   ],
   "source": [
    "#Closing Stock\n",
    "df['Close'].hist()"
   ]
  },
  {
   "cell_type": "code",
   "execution_count": null,
   "metadata": {
    "colab": {
     "base_uri": "https://localhost:8080/",
     "height": 286
    },
    "id": "ZS3y9mD6Mkqa",
    "outputId": "fbe31840-1874-4c90-fd52-ab8f7e9f9573"
   },
   "outputs": [
    {
     "data": {
      "text/plain": [
       "Text(0, 0.5, 'Close')"
      ]
     },
     "execution_count": 8,
     "metadata": {
      "tags": []
     },
     "output_type": "execute_result"
    },
    {
     "data": {
      "image/png": "[encoded data removed]",
      "text/plain": [
       "<Figure size 432x288 with 1 Axes>"
      ]
     },
     "metadata": {
      "needs_background": "light",
      "tags": []
     },
     "output_type": "display_data"
    }
   ],
   "source": [
    "df['Close'].plot()\n",
    "plt.xlabel(\"Date\")\n",
    "plt.ylabel(\"Close\")"
   ]
  },
  {
   "cell_type": "code",
   "execution_count": null,
   "metadata": {
    "colab": {
     "base_uri": "https://localhost:8080/",
     "height": 290
    },
    "id": "97mpX7r_Mkqa",
    "outputId": "b4302512-da6f-4972-e9f7-16dd6ce42168"
   },
   "outputs": [
    {
     "data": {
      "image/png": "[encoded data removed]",
      "text/plain": [
       "<Figure size 432x288 with 1 Axes>"
      ]
     },
     "metadata": {
      "needs_background": "light",
      "tags": []
     },
     "output_type": "display_data"
    }
   ],
   "source": [
    "df['Close'].plot(style='.')\n",
    "plt.title(\"Scatter plot of Closing Price\")\n",
    "plt.title('Scatter plot of Closing Price',fontsize=20)\n",
    "plt.show()"
   ]
  },
  {
   "cell_type": "markdown",
   "metadata": {
    "id": "cBf2SnblMkqb"
   },
   "source": [
    "* It shows an Upward trend so, the data is not stationary. Now we go with rolling mean and rolling standard deviation.\n",
    "* ADF (Augmented Dickey-Fuller) Test\n",
    "\n",
    "* The Dickey-Fuller test is one of the most popular statistical tests. It can be used to determine the presence of unit root in the series, and hence help us understand if the series is stationary or not. The null and alternate hypothesis of this test is:\n",
    "\n",
    "* 1.Null Hypothesis: The series has a unit root (value of a =1)\n",
    "\n",
    "* 2.Alternate Hypothesis: The series has no unit root."
   ]
  },
  {
   "cell_type": "code",
   "execution_count": null,
   "metadata": {
    "colab": {
     "base_uri": "https://localhost:8080/",
     "height": 439
    },
    "id": "dJCpKi4NMkqb",
    "outputId": "04a54343-7559-4d4d-e619-36a63ec5023b"
   },
   "outputs": [
    {
     "data": {
      "image/png": "[encoded data removed]",
      "text/plain": [
       "<Figure size 432x288 with 1 Axes>"
      ]
     },
     "metadata": {
      "needs_background": "light",
      "tags": []
     },
     "output_type": "display_data"
    },
    {
     "name": "stdout",
     "output_type": "stream",
     "text": [
      "Results of dickey fuller test\n",
      "Test Statistics                   4.581411\n",
      "p-value                           1.000000\n",
      "No. of lags used                  8.000000\n",
      "Number of observations used    5022.000000\n",
      "critical value (1%)              -3.431653\n",
      "critical value (5%)              -2.862116\n",
      "critical value (10%)             -2.567076\n",
      "dtype: float64\n"
     ]
    }
   ],
   "source": [
    "#Test for staionarity\n",
    "from statsmodels.tsa.stattools import adfuller\n",
    "def test_stationarity(timeseries):\n",
    "    #Determing rolling statistics\n",
    "    rolling_mean = timeseries.rolling(12).mean()\n",
    "    rolling_std = timeseries.rolling(12).std()\n",
    "    #Plot rolling statistics:\n",
    "    plt.plot(timeseries, color='Black',label='Original')\n",
    "    plt.plot(rolling_mean, color='Green', label='Rolling Mean')\n",
    "    plt.plot(rolling_std, color='Red', label = 'Rolling Standard Deviation')\n",
    "    plt.legend(loc='best')\n",
    "    plt.title('Rolling Mean and Standard Deviation',fontsize=20)\n",
    "    plt.show(block=False)\n",
    "    \n",
    "    print(\"Results of dickey fuller test\")\n",
    "    adft = adfuller(timeseries,autolag='AIC')\n",
    "    # output for dft will give us without defining what the values are.\n",
    "    #hence we manually write what values does it explains using a for loop\n",
    "    output = pd.Series(adft[0:4],index=['Test Statistics','p-value','No. of lags used','Number of observations used'])\n",
    "    for key,values in adft[4].items():\n",
    "        output['critical value (%s)'%key] =  values\n",
    "    print(output)\n",
    "    \n",
    "test_stationarity(df['Close'])"
   ]
  },
  {
   "cell_type": "markdown",
   "metadata": {
    "id": "5U5bKnS_Mkqb"
   },
   "source": [
    "* By looking at the above graph it can be seen that the mean and standard deviation are increasing and hence our data is not stationary. The p-value is greater than 0.05, and hence we cannot reject the null hypothesis, and the null hypothesis states that the series has unit root and hence is not stationary."
   ]
  },
  {
   "cell_type": "code",
   "execution_count": null,
   "metadata": {
    "colab": {
     "base_uri": "https://localhost:8080/",
     "height": 611
    },
    "id": "xjsc_1fBMkqb",
    "outputId": "3f573d7c-a1ed-4611-eb07-1dccbc1a4133"
   },
   "outputs": [
    {
     "name": "stderr",
     "output_type": "stream",
     "text": [
      "/usr/local/lib/python3.6/dist-packages/ipykernel_launcher.py:3: FutureWarning: the 'freq'' keyword is deprecated, use 'period' instead\n",
      "  This is separate from the ipykernel package so we can avoid doing imports until\n"
     ]
    },
    {
     "data": {
      "image/png": "[encoded data removed]",
      "text/plain": [
       "<Figure size 864x576 with 4 Axes>"
      ]
     },
     "metadata": {
      "needs_background": "light",
      "tags": []
     },
     "output_type": "display_data"
    }
   ],
   "source": [
    "#Doing a quick vanilla decomposition to see any trend seasonality etc in the ts\n",
    "from statsmodels.tsa.seasonal import seasonal_decompose\n",
    "decomposition = seasonal_decompose(df.Close, model='multiplicative',freq=30)\n",
    "fig = decomposition.plot()\n",
    "fig.set_figwidth(12)\n",
    "fig.set_figheight(8)\n",
    "fig.suptitle('Decomposition of multiplicative time series',fontsize=20)\n",
    "plt.show()"
   ]
  },
  {
   "cell_type": "code",
   "execution_count": null,
   "metadata": {
    "colab": {
     "base_uri": "https://localhost:8080/",
     "height": 575
    },
    "id": "pH66B17JMkqc",
    "outputId": "ccd4c32c-43f4-4ad7-bff0-99c65b623371"
   },
   "outputs": [
    {
     "name": "stderr",
     "output_type": "stream",
     "text": [
      "No handles with labels found to put in legend.\n"
     ]
    },
    {
     "data": {
      "image/png": "[encoded data removed]",
      "text/plain": [
       "<Figure size 720x648 with 1 Axes>"
      ]
     },
     "metadata": {
      "needs_background": "light",
      "tags": []
     },
     "output_type": "display_data"
    }
   ],
   "source": [
    "from pylab import rcParams\n",
    "rcParams['figure.figsize'] = 10, 9\n",
    "df_log = np.log(df.Close)\n",
    "moving_avg = df.Close.rolling(12).mean()\n",
    "std_dev = df.Close.rolling(12).std()\n",
    "plt.legend(loc='best')\n",
    "plt.title('Moving Average',fontsize=20)\n",
    "plt.plot(std_dev, color =\"Blue\", label = \"Standard Deviation\")\n",
    "plt.plot(moving_avg, color=\"Green\", label = \"Mean\")\n",
    "plt.legend()\n",
    "plt.show()"
   ]
  },
  {
   "cell_type": "code",
   "execution_count": null,
   "metadata": {
    "colab": {
     "base_uri": "https://localhost:8080/",
     "height": 568
    },
    "id": "z5dAa3oaMkqc",
    "outputId": "9c6ae57b-8ed1-4efb-e879-a10cdfee73ef"
   },
   "outputs": [
    {
     "data": {
      "text/plain": [
       "<matplotlib.legend.Legend at 0x7f35e3bc8b38>"
      ]
     },
     "execution_count": 13,
     "metadata": {
      "tags": []
     },
     "output_type": "execute_result"
    },
    {
     "data": {
      "image/png": "[encoded data removed]",
      "text/plain": [
       "<Figure size 720x648 with 1 Axes>"
      ]
     },
     "metadata": {
      "needs_background": "light",
      "tags": []
     },
     "output_type": "display_data"
    }
   ],
   "source": [
    "#Split data into train and training set\n",
    "train_data, test_data = df_log[3:int(len(df_log)*0.9)], df_log[int(len(df_log)*0.9):]\n",
    "plt.figure(figsize=(10,9))\n",
    "plt.grid(True)\n",
    "plt.xlabel('Dates')\n",
    "plt.ylabel('Closing Prices')\n",
    "plt.plot(df_log, 'green', label='Train data')\n",
    "plt.plot(test_data, 'blue', label='Test data')\n",
    "plt.legend()"
   ]
  },
  {
   "cell_type": "code",
   "execution_count": null,
   "metadata": {
    "colab": {
     "base_uri": "https://localhost:8080/"
    },
    "id": "swD7FzZ-Mkqc",
    "outputId": "1dfbc8be-457a-45e2-ee77-84368f44f96a"
   },
   "outputs": [
    {
     "name": "stdout",
     "output_type": "stream",
     "text": [
      "Performing stepwise search to minimize aic\n",
      " ARIMA(0,1,0)(0,0,0)[0] intercept   : AIC=-22832.327, Time=0.77 sec\n",
      " ARIMA(1,1,0)(0,0,0)[0] intercept   : AIC=-22837.605, Time=0.28 sec\n",
      " ARIMA(0,1,1)(0,0,0)[0] intercept   : AIC=-22837.985, Time=2.15 sec\n",
      " ARIMA(0,1,0)(0,0,0)[0]             : AIC=-22834.211, Time=0.28 sec\n",
      " ARIMA(1,1,1)(0,0,0)[0] intercept   : AIC=-22843.360, Time=1.70 sec\n",
      " ARIMA(2,1,1)(0,0,0)[0] intercept   : AIC=-22838.800, Time=6.31 sec\n",
      " ARIMA(1,1,2)(0,0,0)[0] intercept   : AIC=-22839.784, Time=2.39 sec\n",
      " ARIMA(0,1,2)(0,0,0)[0] intercept   : AIC=-22839.018, Time=1.81 sec\n",
      " ARIMA(2,1,0)(0,0,0)[0] intercept   : AIC=-22838.391, Time=0.90 sec\n",
      " ARIMA(2,1,2)(0,0,0)[0] intercept   : AIC=-22836.985, Time=5.06 sec\n",
      " ARIMA(1,1,1)(0,0,0)[0]             : AIC=-22845.213, Time=0.39 sec\n",
      " ARIMA(0,1,1)(0,0,0)[0]             : AIC=-22839.859, Time=0.53 sec\n",
      " ARIMA(1,1,0)(0,0,0)[0]             : AIC=-22839.480, Time=0.17 sec\n",
      " ARIMA(2,1,1)(0,0,0)[0]             : AIC=-22840.661, Time=1.42 sec\n",
      " ARIMA(1,1,2)(0,0,0)[0]             : AIC=-22840.950, Time=0.41 sec\n",
      " ARIMA(0,1,2)(0,0,0)[0]             : AIC=-22840.885, Time=0.62 sec\n",
      " ARIMA(2,1,0)(0,0,0)[0]             : AIC=-22840.260, Time=0.40 sec\n",
      " ARIMA(2,1,2)(0,0,0)[0]             : AIC=-22841.334, Time=2.79 sec\n",
      "\n",
      "Best model:  ARIMA(1,1,1)(0,0,0)[0]          \n",
      "Total fit time: 28.401 seconds\n",
      "                               SARIMAX Results                                \n",
      "==============================================================================\n",
      "Dep. Variable:                      y   No. Observations:                 4524\n",
      "Model:               SARIMAX(1, 1, 1)   Log Likelihood               11425.607\n",
      "Date:                Mon, 18 Jan 2021   AIC                         -22845.213\n",
      "Time:                        13:50:33   BIC                         -22825.962\n",
      "Sample:                             0   HQIC                        -22838.432\n",
      "                               - 4524                                         \n",
      "Covariance Type:                  opg                                         \n",
      "==============================================================================\n",
      "                 coef    std err          z      P>|z|      [0.025      0.975]\n",
      "------------------------------------------------------------------------------\n",
      "ar.L1          0.6472      0.101      6.404      0.000       0.449       0.845\n",
      "ma.L1         -0.6888      0.096     -7.204      0.000      -0.876      -0.501\n",
      "sigma2         0.0004   3.27e-06    114.479      0.000       0.000       0.000\n",
      "===================================================================================\n",
      "Ljung-Box (L1) (Q):                   0.00   Jarque-Bera (JB):             18358.03\n",
      "Prob(Q):                              0.95   Prob(JB):                         0.00\n",
      "Heteroskedasticity (H):               0.35   Skew:                            -0.18\n",
      "Prob(H) (two-sided):                  0.00   Kurtosis:                        12.86\n",
      "===================================================================================\n",
      "\n",
      "Warnings:\n",
      "[1] Covariance matrix calculated using the outer product of gradients (complex-step).\n"
     ]
    }
   ],
   "source": [
    "import statsmodels\n",
    "from statsmodels import compat\n",
    "from statsmodels.compat import pandas\n",
    "from pmdarima.arima import auto_arima\n",
    "\n",
    "auto_arima_model = auto_arima(train_data, start_p=0, start_q=0,\n",
    "                      test='adf',       # use adftest to find             optimal 'd'\n",
    "                      max_p=3, max_q=3, # maximum p and q\n",
    "                      m=1,              # frequency of series\n",
    "                      d=None,           # let model determine 'd'\n",
    "                      seasonal=False,   # No Seasonality\n",
    "                      start_P=0, \n",
    "                      D=0, \n",
    "                      trace=True,\n",
    "                      error_action='ignore',  \n",
    "                      suppress_warnings=True, \n",
    "                      stepwise=True)\n",
    "print(auto_arima_model.summary())"
   ]
  },
  {
   "cell_type": "code",
   "execution_count": null,
   "metadata": {
    "colab": {
     "base_uri": "https://localhost:8080/",
     "height": 567
    },
    "id": "GgHO-rrUMkqc",
    "outputId": "71081b58-df93-46ff-fe88-5ffc49e278c2"
   },
   "outputs": [
    {
     "data": {
      "image/png": "[encoded data removed]",
      "text/plain": [
       "<Figure size 720x648 with 4 Axes>"
      ]
     },
     "metadata": {
      "needs_background": "light",
      "tags": []
     },
     "output_type": "display_data"
    }
   ],
   "source": [
    "auto_arima_model.plot_diagnostics()\n",
    "plt.show()"
   ]
  },
  {
   "cell_type": "markdown",
   "metadata": {
    "id": "rDQpNhQNMkqd"
   },
   "source": [
    "###### Plot Interpretation\n",
    "\n",
    "* Standardized Residuals: The plot shows the residual errors, the residuals seems to fluctuate around zero i.e. the mean and hence it seems that the variance is uniform.\n",
    "\n",
    "* Histogram plus estimated density: The plot is bell shapes and hence a normal distribution. So for a normal distribution the mean is zero.\n",
    "\n",
    "* Q-Q Plot: In the Q-Q plot the dots fall perfectly on the line and hence the distribution is non-skewed.\n",
    "\n",
    "* Correlogram: It is also called Auto Correlation Function, which shows serial correlation in the data that changes over time. On the y axis is the autocorrelation. The x axis tells you the lag. So, if x=1 we have a lag of 1. If x=2, we have a lag of 2.\n",
    "\n",
    "* The auto_arima model suggets that the best fit model is ARIMA(2,1,0) and the fit time is 13.985 seconds.\n",
    "\n"
   ]
  },
  {
   "cell_type": "code",
   "execution_count": null,
   "metadata": {
    "colab": {
     "base_uri": "https://localhost:8080/"
    },
    "id": "UBWhXivgMkqd",
    "outputId": "d4da2065-409d-4131-fcf3-571310b2f147"
   },
   "outputs": [
    {
     "name": "stderr",
     "output_type": "stream",
     "text": [
      "/usr/local/lib/python3.6/dist-packages/statsmodels/tsa/arima_model.py:472: FutureWarning: \n",
      "statsmodels.tsa.arima_model.ARMA and statsmodels.tsa.arima_model.ARIMA have\n",
      "been deprecated in favor of statsmodels.tsa.arima.model.ARIMA (note the .\n",
      "between arima and model) and\n",
      "statsmodels.tsa.SARIMAX. These will be removed after the 0.12 release.\n",
      "\n",
      "statsmodels.tsa.arima.model.ARIMA makes use of the statespace framework and\n",
      "is both well tested and maintained.\n",
      "\n",
      "To silence this warning and continue using ARMA and ARIMA until they are\n",
      "removed, use:\n",
      "\n",
      "import warnings\n",
      "warnings.filterwarnings('ignore', 'statsmodels.tsa.arima_model.ARMA',\n",
      "                        FutureWarning)\n",
      "warnings.filterwarnings('ignore', 'statsmodels.tsa.arima_model.ARIMA',\n",
      "                        FutureWarning)\n",
      "\n",
      "  warnings.warn(ARIMA_DEPRECATION_WARN, FutureWarning)\n",
      "/usr/local/lib/python3.6/dist-packages/statsmodels/tsa/base/tsa_model.py:583: ValueWarning: A date index has been provided, but it has no associated frequency information and so will be ignored when e.g. forecasting.\n",
      "  ' ignored when e.g. forecasting.', ValueWarning)\n",
      "/usr/local/lib/python3.6/dist-packages/statsmodels/tsa/base/tsa_model.py:583: ValueWarning: A date index has been provided, but it has no associated frequency information and so will be ignored when e.g. forecasting.\n",
      "  ' ignored when e.g. forecasting.', ValueWarning)\n"
     ]
    },
    {
     "name": "stdout",
     "output_type": "stream",
     "text": [
      "                             ARIMA Model Results                              \n",
      "==============================================================================\n",
      "Dep. Variable:                D.Close   No. Observations:                 4523\n",
      "Model:                 ARIMA(2, 1, 0)   Log Likelihood               11423.196\n",
      "Method:                       css-mle   S.D. of innovations              0.019\n",
      "Date:                Mon, 18 Jan 2021   AIC                         -22838.392\n",
      "Time:                        13:50:57   BIC                         -22812.724\n",
      "Sample:                             1   HQIC                        -22829.350\n",
      "                                                                              \n",
      "=================================================================================\n",
      "                    coef    std err          z      P>|z|      [0.025      0.975]\n",
      "---------------------------------------------------------------------------------\n",
      "const          9.787e-05      0.000      0.362      0.717      -0.000       0.001\n",
      "ar.L1.D.Close    -0.0411      0.015     -2.765      0.006      -0.070      -0.012\n",
      "ar.L2.D.Close    -0.0248      0.015     -1.670      0.095      -0.054       0.004\n",
      "                                    Roots                                    \n",
      "=============================================================================\n",
      "                  Real          Imaginary           Modulus         Frequency\n",
      "-----------------------------------------------------------------------------\n",
      "AR.1           -0.8280           -6.2941j            6.3484           -0.2708\n",
      "AR.2           -0.8280           +6.2941j            6.3484            0.2708\n",
      "-----------------------------------------------------------------------------\n"
     ]
    }
   ],
   "source": [
    "from statsmodels.tsa.arima_model import ARIMA\n",
    "model_arima=ARIMA(train_data,order=(2,1,0))\n",
    "fit_model=model_arima.fit()\n",
    "print(fit_model.summary())"
   ]
  },
  {
   "cell_type": "code",
   "execution_count": null,
   "metadata": {
    "id": "hZ0VufX9Mkqd"
   },
   "outputs": [],
   "source": [
    "fc, se, conf = fit_model.forecast(504, alpha=0.05) \n",
    "fc_series = pd.Series(fc, index=test_data.index)\n",
    "low = pd.Series(conf[:, 0], index=test_data.index)\n",
    "up = pd.Series(conf[:, 1], index=test_data.index)"
   ]
  },
  {
   "cell_type": "code",
   "execution_count": null,
   "metadata": {
    "colab": {
     "base_uri": "https://localhost:8080/",
     "height": 790
    },
    "id": "yQf7gBVnMkqd",
    "outputId": "d0baca0e-2835-4599-a492-ed8f0c0bcbff"
   },
   "outputs": [
    {
     "data": {
      "image/png": "[encoded data removed]",
      "text/plain": [
       "<Figure size 1000x900 with 1 Axes>"
      ]
     },
     "metadata": {
      "needs_background": "light",
      "tags": []
     },
     "output_type": "display_data"
    }
   ],
   "source": [
    "plt.figure(figsize=(10,9), dpi=100)\n",
    "plt.plot(train_data, label='Training Set')\n",
    "plt.plot(test_data, color = 'Black', label='Actual Stock Price')\n",
    "plt.plot(fc_series, color = 'Green',label='Predicted Stock Price')\n",
    "plt.fill_between(low.index, low, up, color='k', alpha=.10)\n",
    "plt.title('S&P BSE SENSEX Stock Price Prediction',fontsize=20)\n",
    "plt.xlabel('Year')\n",
    "plt.ylabel('Stock Price')\n",
    "plt.legend(fontsize=10,loc='upper left')\n",
    "plt.show()"
   ]
  },
  {
   "cell_type": "markdown",
   "metadata": {
    "id": "mecSomtFMkqd"
   },
   "source": [
    "# ii) Analyze stocks of various IT giants like Microsoft, Apple, Amazon, Google ,IBM.                                                 "
   ]
  },
  {
   "cell_type": "code",
   "execution_count": null,
   "metadata": {
    "colab": {
     "base_uri": "https://localhost:8080/"
    },
    "id": "YbepC31xMkqe",
    "outputId": "9c2ae565-51b2-4bc8-e981-f20031532a74"
   },
   "outputs": [
    {
     "data": {
      "text/html": [
       "<div>\n",
       "<style scoped>\n",
       "    .dataframe tbody tr th:only-of-type {\n",
       "        vertical-align: middle;\n",
       "    }\n",
       "\n",
       "    .dataframe tbody tr th {\n",
       "        vertical-align: top;\n",
       "    }\n",
       "\n",
       "    .dataframe thead th {\n",
       "        text-align: right;\n",
       "    }\n",
       "</style>\n",
       "<table border=\"1\" class=\"dataframe\">\n",
       "  <thead>\n",
       "    <tr style=\"text-align: right;\">\n",
       "      <th>Symbols</th>\n",
       "      <th>MSFT</th>\n",
       "      <th>AAPL</th>\n",
       "      <th>AMZN</th>\n",
       "      <th>GOOG</th>\n",
       "      <th>IBM</th>\n",
       "    </tr>\n",
       "    <tr>\n",
       "      <th>Date</th>\n",
       "      <th></th>\n",
       "      <th></th>\n",
       "      <th></th>\n",
       "      <th></th>\n",
       "      <th></th>\n",
       "    </tr>\n",
       "  </thead>\n",
       "  <tbody>\n",
       "    <tr>\n",
       "      <th>2000-01-03</th>\n",
       "      <td>37.102634</td>\n",
       "      <td>0.862169</td>\n",
       "      <td>89.3750</td>\n",
       "      <td>NaN</td>\n",
       "      <td>73.865021</td>\n",
       "    </tr>\n",
       "    <tr>\n",
       "      <th>2000-01-04</th>\n",
       "      <td>35.849308</td>\n",
       "      <td>0.789480</td>\n",
       "      <td>81.9375</td>\n",
       "      <td>NaN</td>\n",
       "      <td>71.357750</td>\n",
       "    </tr>\n",
       "    <tr>\n",
       "      <th>2000-01-05</th>\n",
       "      <td>36.227283</td>\n",
       "      <td>0.801032</td>\n",
       "      <td>69.7500</td>\n",
       "      <td>NaN</td>\n",
       "      <td>73.865021</td>\n",
       "    </tr>\n",
       "    <tr>\n",
       "      <th>2000-01-06</th>\n",
       "      <td>35.013741</td>\n",
       "      <td>0.731712</td>\n",
       "      <td>65.5625</td>\n",
       "      <td>NaN</td>\n",
       "      <td>72.591492</td>\n",
       "    </tr>\n",
       "    <tr>\n",
       "      <th>2000-01-07</th>\n",
       "      <td>35.471302</td>\n",
       "      <td>0.766373</td>\n",
       "      <td>69.5625</td>\n",
       "      <td>NaN</td>\n",
       "      <td>72.273109</td>\n",
       "    </tr>\n",
       "  </tbody>\n",
       "</table>\n",
       "</div>"
      ],
      "text/plain": [
       "Symbols          MSFT      AAPL     AMZN  GOOG        IBM\n",
       "Date                                                     \n",
       "2000-01-03  37.102634  0.862169  89.3750   NaN  73.865021\n",
       "2000-01-04  35.849308  0.789480  81.9375   NaN  71.357750\n",
       "2000-01-05  36.227283  0.801032  69.7500   NaN  73.865021\n",
       "2000-01-06  35.013741  0.731712  65.5625   NaN  72.591492\n",
       "2000-01-07  35.471302  0.766373  69.5625   NaN  72.273109"
      ]
     },
     "execution_count": 19,
     "metadata": {
      "tags": []
     },
     "output_type": "execute_result"
    }
   ],
   "source": [
    "dfcomp = web.DataReader(['MSFT' , 'AAPL' , 'AMZN' , 'GOOG' , 'IBM'], 'yahoo', start=start, end=end)['Adj Close']\n",
    "dfcomp.head()"
   ]
  },
  {
   "cell_type": "markdown",
   "metadata": {
    "id": "6RI-ICPHMkqe"
   },
   "source": [
    "* Correlation analysis using correlation function in pandas"
   ]
  },
  {
   "cell_type": "code",
   "execution_count": null,
   "metadata": {
    "colab": {
     "base_uri": "https://localhost:8080/"
    },
    "id": "qyKplhxgMkqe",
    "outputId": "aacf0146-a9ad-494d-db41-cb5e41c24ee2"
   },
   "outputs": [
    {
     "data": {
      "text/html": [
       "<div>\n",
       "<style scoped>\n",
       "    .dataframe tbody tr th:only-of-type {\n",
       "        vertical-align: middle;\n",
       "    }\n",
       "\n",
       "    .dataframe tbody tr th {\n",
       "        vertical-align: top;\n",
       "    }\n",
       "\n",
       "    .dataframe thead th {\n",
       "        text-align: right;\n",
       "    }\n",
       "</style>\n",
       "<table border=\"1\" class=\"dataframe\">\n",
       "  <thead>\n",
       "    <tr style=\"text-align: right;\">\n",
       "      <th>Symbols</th>\n",
       "      <th>MSFT</th>\n",
       "      <th>AAPL</th>\n",
       "      <th>AMZN</th>\n",
       "      <th>GOOG</th>\n",
       "      <th>IBM</th>\n",
       "    </tr>\n",
       "    <tr>\n",
       "      <th>Date</th>\n",
       "      <th></th>\n",
       "      <th></th>\n",
       "      <th></th>\n",
       "      <th></th>\n",
       "      <th></th>\n",
       "    </tr>\n",
       "  </thead>\n",
       "  <tbody>\n",
       "    <tr>\n",
       "      <th>2000-01-03</th>\n",
       "      <td>NaN</td>\n",
       "      <td>NaN</td>\n",
       "      <td>NaN</td>\n",
       "      <td>NaN</td>\n",
       "      <td>NaN</td>\n",
       "    </tr>\n",
       "    <tr>\n",
       "      <th>2000-01-04</th>\n",
       "      <td>-0.033780</td>\n",
       "      <td>-0.084310</td>\n",
       "      <td>-0.083217</td>\n",
       "      <td>NaN</td>\n",
       "      <td>-0.033944</td>\n",
       "    </tr>\n",
       "    <tr>\n",
       "      <th>2000-01-05</th>\n",
       "      <td>0.010543</td>\n",
       "      <td>0.014633</td>\n",
       "      <td>-0.148741</td>\n",
       "      <td>NaN</td>\n",
       "      <td>0.035137</td>\n",
       "    </tr>\n",
       "    <tr>\n",
       "      <th>2000-01-06</th>\n",
       "      <td>-0.033498</td>\n",
       "      <td>-0.086538</td>\n",
       "      <td>-0.060036</td>\n",
       "      <td>NaN</td>\n",
       "      <td>-0.017241</td>\n",
       "    </tr>\n",
       "    <tr>\n",
       "      <th>2000-01-07</th>\n",
       "      <td>0.013068</td>\n",
       "      <td>0.047369</td>\n",
       "      <td>0.061010</td>\n",
       "      <td>NaN</td>\n",
       "      <td>-0.004386</td>\n",
       "    </tr>\n",
       "    <tr>\n",
       "      <th>2000-01-10</th>\n",
       "      <td>0.007291</td>\n",
       "      <td>-0.017588</td>\n",
       "      <td>-0.005391</td>\n",
       "      <td>NaN</td>\n",
       "      <td>0.039648</td>\n",
       "    </tr>\n",
       "    <tr>\n",
       "      <th>2000-01-11</th>\n",
       "      <td>-0.025612</td>\n",
       "      <td>-0.051151</td>\n",
       "      <td>-0.035230</td>\n",
       "      <td>NaN</td>\n",
       "      <td>0.008475</td>\n",
       "    </tr>\n",
       "    <tr>\n",
       "      <th>2000-01-12</th>\n",
       "      <td>-0.032571</td>\n",
       "      <td>-0.059973</td>\n",
       "      <td>-0.047753</td>\n",
       "      <td>NaN</td>\n",
       "      <td>0.004202</td>\n",
       "    </tr>\n",
       "    <tr>\n",
       "      <th>2000-01-13</th>\n",
       "      <td>0.018902</td>\n",
       "      <td>0.109677</td>\n",
       "      <td>0.037365</td>\n",
       "      <td>NaN</td>\n",
       "      <td>-0.010460</td>\n",
       "    </tr>\n",
       "    <tr>\n",
       "      <th>2000-01-14</th>\n",
       "      <td>0.041159</td>\n",
       "      <td>0.038114</td>\n",
       "      <td>-0.025592</td>\n",
       "      <td>NaN</td>\n",
       "      <td>0.011628</td>\n",
       "    </tr>\n",
       "  </tbody>\n",
       "</table>\n",
       "</div>"
      ],
      "text/plain": [
       "Symbols         MSFT      AAPL      AMZN  GOOG       IBM\n",
       "Date                                                    \n",
       "2000-01-03       NaN       NaN       NaN   NaN       NaN\n",
       "2000-01-04 -0.033780 -0.084310 -0.083217   NaN -0.033944\n",
       "2000-01-05  0.010543  0.014633 -0.148741   NaN  0.035137\n",
       "2000-01-06 -0.033498 -0.086538 -0.060036   NaN -0.017241\n",
       "2000-01-07  0.013068  0.047369  0.061010   NaN -0.004386\n",
       "2000-01-10  0.007291 -0.017588 -0.005391   NaN  0.039648\n",
       "2000-01-11 -0.025612 -0.051151 -0.035230   NaN  0.008475\n",
       "2000-01-12 -0.032571 -0.059973 -0.047753   NaN  0.004202\n",
       "2000-01-13  0.018902  0.109677  0.037365   NaN -0.010460\n",
       "2000-01-14  0.041159  0.038114 -0.025592   NaN  0.011628"
      ]
     },
     "execution_count": 20,
     "metadata": {
      "tags": []
     },
     "output_type": "execute_result"
    }
   ],
   "source": [
    "retscomp = dfcomp.pct_change()\n",
    "corr = retscomp.corr()\n",
    "retscomp.head(10)"
   ]
  },
  {
   "cell_type": "markdown",
   "metadata": {
    "id": "bfE2cJBKMkqe"
   },
   "source": [
    "## Using Heat Maps to visualize correlation range of various stocks"
   ]
  },
  {
   "cell_type": "code",
   "execution_count": null,
   "metadata": {
    "colab": {
     "base_uri": "https://localhost:8080/"
    },
    "id": "_pgr0PwNMkqe",
    "outputId": "655f1c94-6cdd-4814-9dcd-856d735718af"
   },
   "outputs": [
    {
     "data": {
      "image/png": "[encoded data removed]",
      "text/plain": [
       "<Figure size 720x648 with 2 Axes>"
      ]
     },
     "metadata": {
      "needs_background": "light",
      "tags": []
     },
     "output_type": "display_data"
    }
   ],
   "source": [
    "plt.imshow(corr, cmap = 'hot', interpolation='none')\n",
    "plt.colorbar()\n",
    "plt.xticks(range(len(corr)), corr.columns)\n",
    "plt.yticks(range(len(corr)), corr.columns);"
   ]
  },
  {
   "cell_type": "markdown",
   "metadata": {
    "id": "qDU_rAvtMkqe"
   },
   "source": [
    "* Stocks Return rate and Risk"
   ]
  },
  {
   "cell_type": "code",
   "execution_count": null,
   "metadata": {
    "colab": {
     "base_uri": "https://localhost:8080/"
    },
    "id": "Bo9TFJQsMkqe",
    "outputId": "60667202-4cfa-4df3-a3dc-d84ad9c7facb"
   },
   "outputs": [
    {
     "data": {
      "image/png": "[encoded data removed]",
      "text/plain": [
       "<Figure size 720x648 with 1 Axes>"
      ]
     },
     "metadata": {
      "needs_background": "light",
      "tags": []
     },
     "output_type": "display_data"
    }
   ],
   "source": [
    "plt.scatter(retscomp.mean(), retscomp.std())\n",
    "plt.xlabel('Expected returns')\n",
    "plt.ylabel('Risk')\n",
    "for label, x, y in zip(retscomp.columns, retscomp.mean(), retscomp.std()):\n",
    "  plt.annotate(label, xy = (x, y), xytext = (20, -20),\n",
    "               textcoords = 'offset points', ha = 'right', va = 'bottom',\n",
    "               bbox = dict(boxstyle = 'round, pad = 0.5', fc  = 'yellow',\n",
    "                           alpha = 0.5), arrowprops = dict(arrowstyle = '->',\n",
    "                                                           connectionstyle = 'arc3,rad = 0'))"
   ]
  },
  {
   "cell_type": "markdown",
   "metadata": {
    "id": "Fsm-KkjSMkqf"
   },
   "source": [
    "# iii) Performance Metrics"
   ]
  },
  {
   "cell_type": "code",
   "execution_count": null,
   "metadata": {
    "id": "lguGAe2GMkqf"
   },
   "outputs": [],
   "source": [
    "from sklearn.metrics import r2_score\n",
    "from sklearn import metrics"
   ]
  },
  {
   "cell_type": "code",
   "execution_count": null,
   "metadata": {
    "colab": {
     "base_uri": "https://localhost:8080/"
    },
    "id": "y9970TJhMkqf",
    "outputId": "ed85471f-d4dd-49e2-fd0f-bb05d5ccf688"
   },
   "outputs": [
    {
     "name": "stdout",
     "output_type": "stream",
     "text": [
      "Mean Squared Error: 0.09036525601085134\n"
     ]
    }
   ],
   "source": [
    "#Mean Squared Error\n",
    "mse = metrics.mean_squared_error(test_data, fc)\n",
    "print('Mean Squared Error:',mse)"
   ]
  },
  {
   "cell_type": "code",
   "execution_count": null,
   "metadata": {
    "colab": {
     "base_uri": "https://localhost:8080/"
    },
    "id": "DsLqTYOhMkqf",
    "outputId": "551c0cd8-8a37-4577-f768-2d011363b20a"
   },
   "outputs": [
    {
     "name": "stdout",
     "output_type": "stream",
     "text": [
      "Root Mean Squared Error:  0.300608143620314\n"
     ]
    }
   ],
   "source": [
    "#RMSE is the standard deviation of the errors it is same as MSE but the root of the value is considered\n",
    "print(\"Root Mean Squared Error: \",np.sqrt(metrics.mean_squared_error(test_data, fc)))"
   ]
  },
  {
   "cell_type": "markdown",
   "metadata": {
    "id": "noGln5PoMkqf"
   },
   "source": [
    "# 2. Textual Analysis"
   ]
  },
  {
   "cell_type": "code",
   "execution_count": 48,
   "metadata": {
    "colab": {
     "base_uri": "https://localhost:8080/",
     "height": 359
    },
    "id": "kEaLHUSYMkqf",
    "outputId": "d8e13ce2-f2ab-47ba-923c-ed82e19e2d9a"
   },
   "outputs": [
    {
     "data": {
      "text/html": [
       "<div>\n",
       "<style scoped>\n",
       "    .dataframe tbody tr th:only-of-type {\n",
       "        vertical-align: middle;\n",
       "    }\n",
       "\n",
       "    .dataframe tbody tr th {\n",
       "        vertical-align: top;\n",
       "    }\n",
       "\n",
       "    .dataframe thead th {\n",
       "        text-align: right;\n",
       "    }\n",
       "</style>\n",
       "<table border=\"1\" class=\"dataframe\">\n",
       "  <thead>\n",
       "    <tr style=\"text-align: right;\">\n",
       "      <th></th>\n",
       "      <th>publish_date</th>\n",
       "      <th>headline_category</th>\n",
       "      <th>headline_text</th>\n",
       "    </tr>\n",
       "  </thead>\n",
       "  <tbody>\n",
       "    <tr>\n",
       "      <th>0</th>\n",
       "      <td>20010101</td>\n",
       "      <td>sports.wwe</td>\n",
       "      <td>win over cena satisfying but defeating underta...</td>\n",
       "    </tr>\n",
       "    <tr>\n",
       "      <th>1</th>\n",
       "      <td>20010102</td>\n",
       "      <td>unknown</td>\n",
       "      <td>Status quo will not be disturbed at Ayodhya; s...</td>\n",
       "    </tr>\n",
       "    <tr>\n",
       "      <th>2</th>\n",
       "      <td>20010102</td>\n",
       "      <td>unknown</td>\n",
       "      <td>Fissures in Hurriyat over Pak visit</td>\n",
       "    </tr>\n",
       "    <tr>\n",
       "      <th>3</th>\n",
       "      <td>20010102</td>\n",
       "      <td>unknown</td>\n",
       "      <td>America's unwanted heading for India?</td>\n",
       "    </tr>\n",
       "    <tr>\n",
       "      <th>4</th>\n",
       "      <td>20010102</td>\n",
       "      <td>unknown</td>\n",
       "      <td>For bigwigs; it is destination Goa</td>\n",
       "    </tr>\n",
       "    <tr>\n",
       "      <th>5</th>\n",
       "      <td>20010102</td>\n",
       "      <td>unknown</td>\n",
       "      <td>Extra buses to clear tourist traffic</td>\n",
       "    </tr>\n",
       "    <tr>\n",
       "      <th>6</th>\n",
       "      <td>20010102</td>\n",
       "      <td>unknown</td>\n",
       "      <td>Dilute the power of transfers; says Riberio</td>\n",
       "    </tr>\n",
       "    <tr>\n",
       "      <th>7</th>\n",
       "      <td>20010102</td>\n",
       "      <td>unknown</td>\n",
       "      <td>Focus shifts to teaching of Hindi</td>\n",
       "    </tr>\n",
       "    <tr>\n",
       "      <th>8</th>\n",
       "      <td>20010102</td>\n",
       "      <td>unknown</td>\n",
       "      <td>IT will become compulsory in schools</td>\n",
       "    </tr>\n",
       "    <tr>\n",
       "      <th>9</th>\n",
       "      <td>20010102</td>\n",
       "      <td>unknown</td>\n",
       "      <td>Move to stop freedom fighters' pension flayed</td>\n",
       "    </tr>\n",
       "  </tbody>\n",
       "</table>\n",
       "</div>"
      ],
      "text/plain": [
       "   publish_date headline_category  \\\n",
       "0      20010101        sports.wwe   \n",
       "1      20010102           unknown   \n",
       "2      20010102           unknown   \n",
       "3      20010102           unknown   \n",
       "4      20010102           unknown   \n",
       "5      20010102           unknown   \n",
       "6      20010102           unknown   \n",
       "7      20010102           unknown   \n",
       "8      20010102           unknown   \n",
       "9      20010102           unknown   \n",
       "\n",
       "                                       headline_text  \n",
       "0  win over cena satisfying but defeating underta...  \n",
       "1  Status quo will not be disturbed at Ayodhya; s...  \n",
       "2                Fissures in Hurriyat over Pak visit  \n",
       "3              America's unwanted heading for India?  \n",
       "4                 For bigwigs; it is destination Goa  \n",
       "5               Extra buses to clear tourist traffic  \n",
       "6        Dilute the power of transfers; says Riberio  \n",
       "7                  Focus shifts to teaching of Hindi  \n",
       "8               IT will become compulsory in schools  \n",
       "9      Move to stop freedom fighters' pension flayed  "
      ]
     },
     "execution_count": 48,
     "metadata": {
      "tags": []
     },
     "output_type": "execute_result"
    }
   ],
   "source": [
    "import pandas as pd\n",
    "import numpy as np \n",
    "df1 = pd.read_csv('/content/JISS/india-news-headlines.csv')\n",
    "df1.head(10)"
   ]
  },
  {
   "cell_type": "markdown",
   "metadata": {
    "id": "wxiL6URyMkqg"
   },
   "source": [
    "* The dataset has 3 columns date, category and news. The publish_date column is parsed into date format. The headine_category column is not important and won't contribute for the model building and hence the column will be dropped in the later step."
   ]
  },
  {
   "cell_type": "markdown",
   "metadata": {
    "id": "KX1fpK4uMkqg"
   },
   "source": [
    "# A) Data Analysis"
   ]
  },
  {
   "cell_type": "code",
   "execution_count": 35,
   "metadata": {
    "colab": {
     "base_uri": "https://localhost:8080/",
     "height": 359
    },
    "id": "2sNmTfqHMkqg",
    "outputId": "fd625a4b-8aeb-4048-a801-a6243b7aaefe"
   },
   "outputs": [
    {
     "data": {
      "text/html": [
       "<div>\n",
       "<style scoped>\n",
       "    .dataframe tbody tr th:only-of-type {\n",
       "        vertical-align: middle;\n",
       "    }\n",
       "\n",
       "    .dataframe tbody tr th {\n",
       "        vertical-align: top;\n",
       "    }\n",
       "\n",
       "    .dataframe thead th {\n",
       "        text-align: right;\n",
       "    }\n",
       "</style>\n",
       "<table border=\"1\" class=\"dataframe\">\n",
       "  <thead>\n",
       "    <tr style=\"text-align: right;\">\n",
       "      <th></th>\n",
       "      <th>publish_date</th>\n",
       "      <th>headline_category</th>\n",
       "      <th>headline_text</th>\n",
       "    </tr>\n",
       "  </thead>\n",
       "  <tbody>\n",
       "    <tr>\n",
       "      <th>3160319</th>\n",
       "      <td>20190930</td>\n",
       "      <td>home.education</td>\n",
       "      <td>IIT M.Tech fee hike not for existing students:...</td>\n",
       "    </tr>\n",
       "    <tr>\n",
       "      <th>3160320</th>\n",
       "      <td>20190930</td>\n",
       "      <td>city.chandigarh</td>\n",
       "      <td>Jananayak Janata Party releases second list of...</td>\n",
       "    </tr>\n",
       "    <tr>\n",
       "      <th>3160321</th>\n",
       "      <td>20190930</td>\n",
       "      <td>city.gurgaon</td>\n",
       "      <td>Jananayak Janata Party releases second list of...</td>\n",
       "    </tr>\n",
       "    <tr>\n",
       "      <th>3160322</th>\n",
       "      <td>20190930</td>\n",
       "      <td>city.faridabad</td>\n",
       "      <td>Jananayak Janata Party releases second list of...</td>\n",
       "    </tr>\n",
       "    <tr>\n",
       "      <th>3160323</th>\n",
       "      <td>20190930</td>\n",
       "      <td>city.mumbai</td>\n",
       "      <td>Man who lifted Andheri kid held in Gujarat aft...</td>\n",
       "    </tr>\n",
       "    <tr>\n",
       "      <th>3160324</th>\n",
       "      <td>20190930</td>\n",
       "      <td>city.kolkata</td>\n",
       "      <td>Bar bar dekho but note mat pheko: Kolkata cops</td>\n",
       "    </tr>\n",
       "    <tr>\n",
       "      <th>3160325</th>\n",
       "      <td>20190930</td>\n",
       "      <td>city.thane</td>\n",
       "      <td>Kalyan man held for rape</td>\n",
       "    </tr>\n",
       "    <tr>\n",
       "      <th>3160326</th>\n",
       "      <td>20190930</td>\n",
       "      <td>sports.more-sports.athletics</td>\n",
       "      <td>India's 4x400m mixed relay team finishes 7th i...</td>\n",
       "    </tr>\n",
       "    <tr>\n",
       "      <th>3160327</th>\n",
       "      <td>20190930</td>\n",
       "      <td>entertainment.hindi.bollywood</td>\n",
       "      <td>PHOTOS: Shahid Kapoor and Mira Rajput get papp...</td>\n",
       "    </tr>\n",
       "    <tr>\n",
       "      <th>3160328</th>\n",
       "      <td>20190930</td>\n",
       "      <td>tv.news.hindi</td>\n",
       "      <td>NaN</td>\n",
       "    </tr>\n",
       "  </tbody>\n",
       "</table>\n",
       "</div>"
      ],
      "text/plain": [
       "         publish_date              headline_category  \\\n",
       "3160319      20190930                 home.education   \n",
       "3160320      20190930                city.chandigarh   \n",
       "3160321      20190930                   city.gurgaon   \n",
       "3160322      20190930                 city.faridabad   \n",
       "3160323      20190930                    city.mumbai   \n",
       "3160324      20190930                   city.kolkata   \n",
       "3160325      20190930                     city.thane   \n",
       "3160326      20190930   sports.more-sports.athletics   \n",
       "3160327      20190930  entertainment.hindi.bollywood   \n",
       "3160328      20190930                  tv.news.hindi   \n",
       "\n",
       "                                             headline_text  \n",
       "3160319  IIT M.Tech fee hike not for existing students:...  \n",
       "3160320  Jananayak Janata Party releases second list of...  \n",
       "3160321  Jananayak Janata Party releases second list of...  \n",
       "3160322  Jananayak Janata Party releases second list of...  \n",
       "3160323  Man who lifted Andheri kid held in Gujarat aft...  \n",
       "3160324     Bar bar dekho but note mat pheko: Kolkata cops  \n",
       "3160325                           Kalyan man held for rape  \n",
       "3160326  India's 4x400m mixed relay team finishes 7th i...  \n",
       "3160327  PHOTOS: Shahid Kapoor and Mira Rajput get papp...  \n",
       "3160328                                                NaN  "
      ]
     },
     "execution_count": 35,
     "metadata": {
      "tags": []
     },
     "output_type": "execute_result"
    }
   ],
   "source": [
    "df1.tail(10)"
   ]
  },
  {
   "cell_type": "code",
   "execution_count": 36,
   "metadata": {
    "colab": {
     "base_uri": "https://localhost:8080/"
    },
    "id": "YxpwLQ06Mkqg",
    "outputId": "1810af8b-57d8-432b-b94e-5151cd59402b"
   },
   "outputs": [
    {
     "data": {
      "text/plain": [
       "(3160329, 3)"
      ]
     },
     "execution_count": 36,
     "metadata": {
      "tags": []
     },
     "output_type": "execute_result"
    }
   ],
   "source": [
    "df1.shape"
   ]
  },
  {
   "cell_type": "code",
   "execution_count": 37,
   "metadata": {
    "colab": {
     "base_uri": "https://localhost:8080/"
    },
    "id": "4eVJwcYBMkqg",
    "outputId": "6b6a3a11-d533-40c4-b030-e4739ce0b830"
   },
   "outputs": [
    {
     "data": {
      "text/plain": [
       "publish_date         0\n",
       "headline_category    0\n",
       "headline_text        1\n",
       "dtype: int64"
      ]
     },
     "execution_count": 37,
     "metadata": {
      "tags": []
     },
     "output_type": "execute_result"
    }
   ],
   "source": [
    "df1.isnull().sum()"
   ]
  },
  {
   "cell_type": "code",
   "execution_count": 38,
   "metadata": {
    "colab": {
     "base_uri": "https://localhost:8080/"
    },
    "id": "tpkZ8lOXMkqg",
    "outputId": "38608eb2-ebe0-43b8-b334-eb84706ec2bd"
   },
   "outputs": [
    {
     "name": "stdout",
     "output_type": "stream",
     "text": [
      "<class 'pandas.core.frame.DataFrame'>\n",
      "RangeIndex: 3160329 entries, 0 to 3160328\n",
      "Data columns (total 3 columns):\n",
      " #   Column             Dtype \n",
      "---  ------             ----- \n",
      " 0   publish_date       int64 \n",
      " 1   headline_category  object\n",
      " 2   headline_text      object\n",
      "dtypes: int64(1), object(2)\n",
      "memory usage: 72.3+ MB\n"
     ]
    }
   ],
   "source": [
    "df1.info()"
   ]
  },
  {
   "cell_type": "code",
   "execution_count": 39,
   "metadata": {
    "colab": {
     "base_uri": "https://localhost:8080/",
     "height": 297
    },
    "id": "uN34aap5Mkqh",
    "outputId": "6819eed5-8532-45d5-db6f-dbd7c937d816"
   },
   "outputs": [
    {
     "data": {
      "text/html": [
       "<div>\n",
       "<style scoped>\n",
       "    .dataframe tbody tr th:only-of-type {\n",
       "        vertical-align: middle;\n",
       "    }\n",
       "\n",
       "    .dataframe tbody tr th {\n",
       "        vertical-align: top;\n",
       "    }\n",
       "\n",
       "    .dataframe thead th {\n",
       "        text-align: right;\n",
       "    }\n",
       "</style>\n",
       "<table border=\"1\" class=\"dataframe\">\n",
       "  <thead>\n",
       "    <tr style=\"text-align: right;\">\n",
       "      <th></th>\n",
       "      <th>publish_date</th>\n",
       "    </tr>\n",
       "  </thead>\n",
       "  <tbody>\n",
       "    <tr>\n",
       "      <th>count</th>\n",
       "      <td>3.160329e+06</td>\n",
       "    </tr>\n",
       "    <tr>\n",
       "      <th>mean</th>\n",
       "      <td>2.012156e+07</td>\n",
       "    </tr>\n",
       "    <tr>\n",
       "      <th>std</th>\n",
       "      <td>4.756475e+04</td>\n",
       "    </tr>\n",
       "    <tr>\n",
       "      <th>min</th>\n",
       "      <td>2.001010e+07</td>\n",
       "    </tr>\n",
       "    <tr>\n",
       "      <th>25%</th>\n",
       "      <td>2.009081e+07</td>\n",
       "    </tr>\n",
       "    <tr>\n",
       "      <th>50%</th>\n",
       "      <td>2.013033e+07</td>\n",
       "    </tr>\n",
       "    <tr>\n",
       "      <th>75%</th>\n",
       "      <td>2.016061e+07</td>\n",
       "    </tr>\n",
       "    <tr>\n",
       "      <th>max</th>\n",
       "      <td>2.019093e+07</td>\n",
       "    </tr>\n",
       "  </tbody>\n",
       "</table>\n",
       "</div>"
      ],
      "text/plain": [
       "       publish_date\n",
       "count  3.160329e+06\n",
       "mean   2.012156e+07\n",
       "std    4.756475e+04\n",
       "min    2.001010e+07\n",
       "25%    2.009081e+07\n",
       "50%    2.013033e+07\n",
       "75%    2.016061e+07\n",
       "max    2.019093e+07"
      ]
     },
     "execution_count": 39,
     "metadata": {
      "tags": []
     },
     "output_type": "execute_result"
    }
   ],
   "source": [
    "df1.describe()"
   ]
  },
  {
   "cell_type": "code",
   "execution_count": 40,
   "metadata": {
    "colab": {
     "base_uri": "https://localhost:8080/"
    },
    "id": "BO-O6BIfMkqh",
    "outputId": "014ae449-fdad-4c82-ac1c-1060ad728d06"
   },
   "outputs": [
    {
     "data": {
      "text/plain": [
       "publish_date            20190930\n",
       "headline_category    young-turks\n",
       "dtype: object"
      ]
     },
     "execution_count": 40,
     "metadata": {
      "tags": []
     },
     "output_type": "execute_result"
    }
   ],
   "source": [
    "df1.max()"
   ]
  },
  {
   "cell_type": "code",
   "execution_count": 41,
   "metadata": {
    "colab": {
     "base_uri": "https://localhost:8080/"
    },
    "id": "F-IaiC_oMkqh",
    "outputId": "102bc0ca-2b0f-4a8c-e270-a04cf55f11f2"
   },
   "outputs": [
    {
     "data": {
      "text/plain": [
       "publish_date                 20010101\n",
       "headline_category    2008-in-pictures\n",
       "dtype: object"
      ]
     },
     "execution_count": 41,
     "metadata": {
      "tags": []
     },
     "output_type": "execute_result"
    }
   ],
   "source": [
    "df1.min()"
   ]
  },
  {
   "cell_type": "code",
   "execution_count": 43,
   "metadata": {
    "colab": {
     "base_uri": "https://localhost:8080/"
    },
    "id": "BDjVEAUiMkqh",
    "outputId": "b6bb1bf6-512a-4022-fecb-94dee55fe8f8"
   },
   "outputs": [
    {
     "data": {
      "text/plain": [
       "array(['sports.wwe', 'unknown', 'entertainment.hindi.bollywood', ...,\n",
       "       'times-fact-check.news', 'elections.assembly-elections.haryana',\n",
       "       'elections.assembly-elections.maharashtra'], dtype=object)"
      ]
     },
     "execution_count": 43,
     "metadata": {
      "tags": []
     },
     "output_type": "execute_result"
    }
   ],
   "source": [
    "df1['headline_category'].unique()"
   ]
  },
  {
   "cell_type": "code",
   "execution_count": 44,
   "metadata": {
    "colab": {
     "base_uri": "https://localhost:8080/",
     "height": 80
    },
    "id": "6EWxl4VmMkqh",
    "outputId": "8e1ffa35-8231-4e05-9ac3-6372fc48bc47"
   },
   "outputs": [
    {
     "data": {
      "text/html": [
       "<div>\n",
       "<style scoped>\n",
       "    .dataframe tbody tr th:only-of-type {\n",
       "        vertical-align: middle;\n",
       "    }\n",
       "\n",
       "    .dataframe tbody tr th {\n",
       "        vertical-align: top;\n",
       "    }\n",
       "\n",
       "    .dataframe thead th {\n",
       "        text-align: right;\n",
       "    }\n",
       "</style>\n",
       "<table border=\"1\" class=\"dataframe\">\n",
       "  <thead>\n",
       "    <tr style=\"text-align: right;\">\n",
       "      <th></th>\n",
       "      <th>publish_date</th>\n",
       "    </tr>\n",
       "  </thead>\n",
       "  <tbody>\n",
       "    <tr>\n",
       "      <th>publish_date</th>\n",
       "      <td>1.0</td>\n",
       "    </tr>\n",
       "  </tbody>\n",
       "</table>\n",
       "</div>"
      ],
      "text/plain": [
       "              publish_date\n",
       "publish_date           1.0"
      ]
     },
     "execution_count": 44,
     "metadata": {
      "tags": []
     },
     "output_type": "execute_result"
    }
   ],
   "source": [
    "df1.corr()"
   ]
  },
  {
   "cell_type": "code",
   "execution_count": 45,
   "metadata": {
    "colab": {
     "base_uri": "https://localhost:8080/"
    },
    "id": "ZVk39UQbMkqh",
    "outputId": "e95f0f0f-2aa7-46d2-f7a1-358725416c03"
   },
   "outputs": [
    {
     "data": {
      "text/plain": [
       "(3160329, 3)"
      ]
     },
     "execution_count": 45,
     "metadata": {
      "tags": []
     },
     "output_type": "execute_result"
    }
   ],
   "source": [
    "df1.shape"
   ]
  },
  {
   "cell_type": "markdown",
   "metadata": {
    "id": "oxOb88mIMkqi"
   },
   "source": [
    "# B) Data Visualization"
   ]
  },
  {
   "cell_type": "markdown",
   "metadata": {
    "id": "1g2teqbTSnlJ"
   },
   "source": [
    "# i) EDA (Exploratry data analysis) using NLP and NLTK tools"
   ]
  },
  {
   "cell_type": "code",
   "execution_count": 46,
   "metadata": {
    "colab": {
     "base_uri": "https://localhost:8080/",
     "height": 197
    },
    "id": "jL3MyyfnMkqi",
    "outputId": "1d743612-950a-4b68-91f5-5a104bab0dc1"
   },
   "outputs": [
    {
     "data": {
      "image/png": "[encoded data removed]",
      "text/plain": [
       "<Figure size 180x180 with 2 Axes>"
      ]
     },
     "metadata": {
      "needs_background": "light",
      "tags": []
     },
     "output_type": "display_data"
    }
   ],
   "source": [
    "sns.set_palette('viridis')\n",
    "sns.pairplot(df1)\n",
    "plt.show()"
   ]
  },
  {
   "cell_type": "markdown",
   "metadata": {
    "id": "KjL1oIkJMkqi"
   },
   "source": [
    "* Remove URL from the text"
   ]
  },
  {
   "cell_type": "code",
   "execution_count": 47,
   "metadata": {
    "id": "LyXAzwYUMkqi"
   },
   "outputs": [],
   "source": [
    "df1['headline_text'].value_counts()"
   ]
  },
  {
   "cell_type": "code",
   "execution_count": 49,
   "metadata": {
    "colab": {
     "base_uri": "https://localhost:8080/"
    },
    "id": "AQlJ0HOJMkqi",
    "outputId": "0c9ce528-60ac-4275-c1b0-7523d14196fa"
   },
   "outputs": [
    {
     "data": {
      "text/plain": [
       "india                                                         280286\n",
       "unknown                                                       207732\n",
       "city.mumbai                                                   129819\n",
       "city.delhi                                                    119509\n",
       "business.india-business                                       111953\n",
       "city.chandigarh                                               104768\n",
       "city.hyderabad                                                 91094\n",
       "city.bengaluru                                                 89257\n",
       "entertainment.hindi.bollywood                                  87879\n",
       "city.ahmedabad                                                 81306\n",
       "city.lucknow                                                   80837\n",
       "city.pune                                                      79555\n",
       "city.kolkata                                                   77147\n",
       "city.nagpur                                                    72438\n",
       "city.goa                                                       71207\n",
       "city.chennai                                                   68672\n",
       "city.patna                                                     66321\n",
       "city.jaipur                                                    48694\n",
       "sports.icc-world-cup-2015                                      40537\n",
       "business.international-business                                36292\n",
       "city.gurgaon                                                   30458\n",
       "city.bhubaneswar                                               27885\n",
       "tv.news.hindi                                                  27019\n",
       "home.campaigns                                                 26834\n",
       "citizen.stories                                                26516\n",
       "entertainment.english.hollywood                                25587\n",
       "city.kochi                                                     25500\n",
       "city.guwahati                                                  23939\n",
       "city.ranchi                                                    22898\n",
       "city.ludhiana                                                  22317\n",
       "city.bhopal                                                    22307\n",
       "city.thiruvananthapuram                                        21945\n",
       "city.noida                                                     19740\n",
       "tech.tech-news                                                 19112\n",
       "city.vadodara                                                  18865\n",
       "home.education                                                 18804\n",
       "city.madurai                                                   18730\n",
       "city.kanpur                                                    18529\n",
       "sports.football                                                18500\n",
       "city.coimbatore                                                18474\n",
       "city.allahabad                                                 17946\n",
       "world.us                                                       17618\n",
       "city.surat                                                     16695\n",
       "city.mangaluru                                                 16169\n",
       "city.indore                                                    15286\n",
       "entertainment.tamil.movies.news                                15172\n",
       "city.nashik                                                    15071\n",
       "city.varanasi                                                  14891\n",
       "city.mysuru                                                    14277\n",
       "city.hubballi                                                  14099\n",
       "news                                                           13974\n",
       "edit-page                                                      13699\n",
       "city.rajkot                                                    13493\n",
       "world.rest-of-world                                            13441\n",
       "home.science                                                   13408\n",
       "city.navimumbai                                                11726\n",
       "city.aurangabad                                                10473\n",
       "city.visakhapatnam                                             10265\n",
       "city.trichy                                                    10061\n",
       "entertainment.kannada.movies.news                               9972\n",
       "city.thane                                                      9826\n",
       "world.pakistan                                                  9249\n",
       "life-style.health-fitness.health-news                           8810\n",
       "city.kolhapur                                                   8757\n",
       "tech                                                            8493\n",
       "entertainment.english.music.news                                7988\n",
       "city.kozhikode                                                  7944\n",
       "top-headlines                                                   7603\n",
       "sports.tennis                                                   7413\n",
       "delhi-times                                                     7356\n",
       "entertainment.malayalam.movies.news                             7067\n",
       "sports.more-sports.others                                       6904\n",
       "bombay-times                                                    6828\n",
       "entertainment.telugu.movies.news                                6805\n",
       "blogs                                                           6796\n",
       "lucknow-times                                                   6704\n",
       "top-stories                                                     6637\n",
       "sports.golf                                                     6582\n",
       "entertainment.hindi.music.news                                  6195\n",
       "calcutta-times                                                  5717\n",
       "city.raipur                                                     5498\n",
       "cricket                                                         5451\n",
       "pune-times                                                      5390\n",
       "hyderabad-times                                                 4960\n",
       "world.uk                                                        4917\n",
       "bangalore-times                                                 4885\n",
       "city.vijayawada                                                 4836\n",
       "world.china                                                     4575\n",
       "removed                                                         4553\n",
       "entertainment.events.mumbai                                     4472\n",
       "entertainment.bengali.movies.news                               4284\n",
       "city.shimla                                                     4263\n",
       "home.sunday-times.deep-focus                                    4245\n",
       "nri.community                                                   4175\n",
       "entertainment.events.delhi                                      4152\n",
       "world.middle-east                                               4082\n",
       "auto                                                            4032\n",
       "ahmedabad-times                                                 3961\n",
       "world.europe                                                    3953\n",
       "others.news-interviews                                          3784\n",
       "sports.football.epl                                             3637\n",
       "home.environment.flora-fauna                                    3616\n",
       "life-style.relationships.man-woman                              3555\n",
       "world.south-asia                                                3487\n",
       "sports.badminton                                                3472\n",
       "home.sunday-times.all-that-matters                              3410\n",
       "city.dehradun                                                   3181\n",
       "tv.news.english                                                 3056\n",
       "city.amritsar                                                   3006\n",
       "entertainment.events.hyderabad                                  2957\n",
       "entertainment.events.others                                     2954\n",
       "city.ghaziabad                                                  2843\n",
       "sports.racing                                                   2839\n",
       "city.agra                                                       2629\n",
       "life-style.beauty                                               2585\n",
       "sports.cricket.news                                             2495\n",
       "entertainment.events.bangalore                                  2465\n",
       "tech.it-services                                                2422\n",
       "city.puducherry                                                 2401\n",
       "sports.more-sports.athletics                                    2352\n",
       "entertainment.events.chennai                                    2265\n",
       "sports.icc-world-t20-2016                                       2258\n",
       "city.meerut                                                     2220\n",
       "sports.hockey                                                   2197\n",
       "life-style.health-fitness.diet                                  2139\n",
       "city.bareilly                                                   2122\n",
       "life-style                                                      2103\n",
       "life-style.people                                               2093\n",
       "sports.nba                                                      2018\n",
       "sports.boxing                                                   2001\n",
       "tech.computing                                                  1967\n",
       "life-style.spotlight                                            1914\n",
       "entertainment                                                   1907\n",
       "tech.jobs                                                       1864\n",
       "life-style.health-fitness.fitness                               1837\n",
       "tv.news.kannada                                                 1816\n",
       "city.salem                                                      1739\n",
       "speak-out                                                       1719\n",
       "sports                                                          1709\n",
       "entertainment.events.kolkata                                    1613\n",
       "sports.chess                                                    1611\n",
       "business.personal-finance                                       1592\n",
       "entertainment.tamil.music                                       1592\n",
       "spirituality                                                    1590\n",
       "gadgets-special                                                 1578\n",
       "sports.off-the-field                                            1513\n",
       "videos                                                          1477\n",
       "entertainment.events.lucknow                                    1397\n",
       "life-style.books.features                                       1381\n",
       "entertainment.events                                            1366\n",
       "city.amaravati                                                  1339\n",
       "life-style.fashion.style-guide                                  1315\n",
       "home.environment.pollution                                      1258\n",
       "entertainment.marathi.movies.news                               1254\n",
       "city.jammu                                                      1222\n",
       "city.cuttack                                                    1222\n",
       "tech.social                                                     1212\n",
       "life-style.fashion.shows                                        1178\n",
       "city.agartala                                                   1158\n",
       "tv.news.tamil                                                   1157\n",
       "home.environment.developmental-issues                           1156\n",
       "city.srinagar                                                   1154\n",
       "life-style.food.food-reviews                                    1144\n",
       "photos                                                          1144\n",
       "city.imphal                                                     1130\n",
       "elections.assembly-elections.uttar-pradesh.news                 1097\n",
       "sports.cricket.ipl                                              1097\n",
       "sports.football.indian-super-league                             1089\n",
       "sports.ipl.news                                                 1088\n",
       "tv.news.malayalam                                               1074\n",
       "home.environment.global-warming                                 1052\n",
       "elections.news                                                  1051\n",
       "entertainment.kannada.music                                     1040\n",
       "interviews                                                      1036\n",
       "sports.football.i-league                                        1034\n",
       "city.ajmer                                                      1033\n",
       "life-style.relationships.parenting                              1023\n",
       "life-style.home-garden                                          1007\n",
       "city.shillong                                                   1003\n",
       "city.jodhpur                                                    1001\n",
       "city.jamshedpur                                                  991\n",
       "life-style.relationships.work                                    914\n",
       "gadgets-news                                                     895\n",
       "home.sunday-times                                                889\n",
       "sports.football.world-cup-2014                                   878\n",
       "entertainment.malayalam.music                                    860\n",
       "life-style.food.food-features                                    857\n",
       "entertainment.kannada.theatre                                    852\n",
       "city.erode                                                       849\n",
       "india-news                                                       849\n",
       "city.udaipur                                                     827\n",
       "sports.more-sports.cycling                                       808\n",
       "assembly-elections-2012.uttar-pradesh                            802\n",
       "life-style.food.recipes                                          776\n",
       "sports.football.champions-league                                 766\n",
       "politics.news                                                    765\n",
       "sports.more-sports.shooting                                      761\n",
       "life-style.fashion.designers                                     760\n",
       "tv.news.telugu                                                   758\n",
       "entertainment.bhojpuri.movies.news                               754\n",
       "life-style.fashion.buzz                                          733\n",
       "tv.news.bengali                                                  712\n",
       "city.itanagar                                                    695\n",
       "tech.mobiles                                                     692\n",
       "entertainment.hindi.music.music-videos                           687\n",
       "television-highlights                                            681\n",
       "entertainment.punjabi.music                                      678\n",
       "times-view                                                       676\n",
       "sports.new-zealand-in-india-2016                                 664\n",
       "regional                                                         656\n",
       "city.faridabad                                                   639\n",
       "home.environment.the-good-earth                                  610\n",
       "assembly-elections-2013.delhi-assembly-elections                 599\n",
       "sports.more-sports.snooker.billiards                             594\n",
       "entertainment.hindi.music.music-events                           590\n",
       "sports.headline1                                                 589\n",
       "life-style.health-fitness.de-stress                              583\n",
       "life-style.fashion.trends                                        560\n",
       "sports.football.fifa-world-cup                                   559\n",
       "entertainment.malayalam                                          548\n",
       "assembly-elections-2011.west-bengal                              543\n",
       "business                                                         527\n",
       "elections.assembly-elections.telangana                           527\n",
       "tv.news.marathi                                                  522\n",
       "entertainment.telugu.music                                       518\n",
       "elections.lok-sabha-elections-2019.uttar-pradesh.news            509\n",
       "entertainment.hindi.theatre                                      507\n",
       "gujarat-assembly-elections                                       504\n",
       "entertainment.beauty-pageants.news                               504\n",
       "sports.more-sports.wrestling                                     503\n",
       "life-style.fashion.celeb-style                                   502\n",
       "world.mad-mad-world                                              501\n",
       "talk-radio                                                       501\n",
       "assembly-elections-2013.rajasthan-assembly-elections             494\n",
       "life-style.health-fitness.weight-loss                            474\n",
       "entertainment.english.movie-review                               468\n",
       "world                                                            468\n",
       "delhi-elections-2015                                             462\n",
       "entertainment.hindi.movie-review                                 462\n",
       "city.gaya                                                        455\n",
       "elections.assembly-elections.gujarat                             455\n",
       "assembly-elections-2012.goa                                      437\n",
       "auto.miscellaneous                                               433\n",
       "home.specials.assembly-elections-2014.maharashtra-news           430\n",
       "assembly-elections-2013.madhya-pradesh-assembly-elections        423\n",
       "city.kohima                                                      418\n",
       "sports.cricket.england-in-india-2016                             418\n",
       "elections.assembly-elections.madhya-pradesh                      417\n",
       "entertainment.punjabi.movies.news                                417\n",
       "entertainment.events.kanpur                                      409\n",
       "elections.assembly-elections.punjab.news                         407\n",
       "elections.assembly-elections.rajasthan                           406\n",
       "life-style.relationships.pets                                    390\n",
       "life-style.relationships.love-sex                                389\n",
       "sports.cricket.icc-world-cup                                     388\n",
       "entertainment.gujarati.movies.news                               386\n",
       "entertainment.events.gurgaon                                     385\n",
       "entertainment.events.kochi                                       378\n",
       "nagpur-times                                                     374\n",
       "entertainment.hindi.music.music-reviews                          373\n",
       "assembly-elections-2011.tamil-nadu                               370\n",
       "life-style.health-fitness.every-heart-counts                     370\n",
       "entertainment.malayalam.movies                                   366\n",
       "more-stories                                                     365\n",
       "citizens-grievances                                              360\n",
       "elections.lok-sabha-elections-2019.maharashtra.news              341\n",
       "specials                                                         330\n",
       "entertainment.events.jaipur                                      329\n",
       "mocktale                                                         328\n",
       "entertainment.bengali.music                                      314\n",
       "entertainment.hindi                                              314\n",
       "home.environment                                                 314\n",
       "tech.how-to                                                      312\n",
       "tech.more-gadgets                                                312\n",
       "entertainment.events.goa                                         312\n",
       "entertainment.events.varanasi                                    308\n",
       "entertainment.events.bhopal                                      307\n",
       "tech.apps                                                        306\n",
       "entertainment.telugu.movies                                      305\n",
       "sports.cricket.australia-in-india                                302\n",
       "sports.cricket.india-in-england                                  302\n",
       "entertainment.tamil.movies.did-you-know                          300\n",
       "hyderabad.local-sports                                           295\n",
       "life-style.books                                                 294\n",
       "city.jind                                                        291\n",
       "elections.lok-sabha-elections-2019.delhi.news                    288\n",
       "elections.bihar-elections-2015.news                              279\n",
       "assembly-elections-2013.chhattisgarh-assembly-elections          279\n",
       "sports.cricket.india-domestic.ranji-trophy                       274\n",
       "delhi                                                            274\n",
       "sports.cricket.india-in-south-africa                             270\n",
       "tech.reviews                                                     263\n",
       "entertainment.movies                                             262\n",
       "asian-games-2014.india-at-incheon                                262\n",
       "union-budget                                                     261\n",
       "indian-challenge                                                 257\n",
       "subverse                                                         256\n",
       "sports.cricket.india-in-australia                                251\n",
       "sports.hockey.hockey-india-league                                249\n",
       "life-style.food-news                                             248\n",
       "uttar-pradesh                                                    247\n",
       "entertainment.events.indore                                      244\n",
       "entertainment.events.nagpur                                      241\n",
       "entertainment.kannada.movie-reviews                              237\n",
       "budget-2015.union-budget-2015                                    235\n",
       "rail-budget                                                      228\n",
       "off-the-field                                                    227\n",
       "home.specials.assembly-elections-2014.haryana-news               225\n",
       "entertainment.hindi.music                                        220\n",
       "entertainment.events.pune                                        219\n",
       "sports.asian-games                                               218\n",
       "entertainment.tamil.movie-reviews                                218\n",
       "elections.lok-sabha-elections-2019.bihar.news                    218\n",
       "entertainment.bengali.movie-reviews                              213\n",
       "life-style.fashion                                               212\n",
       "auto.cars                                                        211\n",
       "city                                                             209\n",
       "tech.gaming                                                      208\n",
       "speaking-tree                                                    208\n",
       "sports.racing.indian-gp                                          202\n",
       "elections.lok-sabha-elections-2019.karnataka.news                197\n",
       "sports.football.interviews                                       196\n",
       "entertainment.events.ahmedabad                                   193\n",
       "entertainment.gujarati.music                                     189\n",
       "elections.assembly-elections.goa.news                            189\n",
       "life-style.food.drinks-corner                                    188\n",
       "politics.politics-specials                                       188\n",
       "sports.commonwealth-games                                        186\n",
       "sa-aiyar.swaminomics                                             185\n",
       "astrology.horoscope                                              182\n",
       "life-style.events                                                182\n",
       "trivia                                                           181\n",
       "sports.india-in-australia                                        181\n",
       "sports.tennis.australian-open-2017                               180\n",
       "life-style.relationships.ask-the-expert                          175\n",
       "stories                                                          175\n",
       "war-on-iraq.news                                                 173\n",
       "bachi-karkaria.erratica                                          173\n",
       "sports.cricket.west-indies-in-india                              172\n",
       "entertainment.kannada.movies.did-you-know                        169\n",
       "other-racing.others                                              169\n",
       "entertainment.marathi.theatre                                    167\n",
       "entertainment.hindi.top-10                                       166\n",
       "jug-suraiya.jugular-vein                                         165\n",
       "entertainment.malayalam.movie-reviews                            163\n",
       "entertainment.telugu.movies.did-you-know                         162\n",
       "entertainment.telugu                                             162\n",
       "sports.football.2017-u-17-world-cup.news                         161\n",
       "sports.cricket.england-in-australia                              160\n",
       "life-style.books.reviews                                         159\n",
       "commonwealth-games-2014.india-at-glasgow                         159\n",
       "gaming                                                           157\n",
       "quickstir.red-hot                                                156\n",
       "life-style.relationships.soul-curry                              156\n",
       "sports.cricket.sri-lanka-in-india                                154\n",
       "mf-news                                                          154\n",
       "entertainment.marathi.music                                      150\n",
       "first-look                                                       149\n",
       "diwali                                                           148\n",
       "sports.pro-kabaddi-league                                        148\n",
       "sports.cricket.india-in-sri-lanka                                148\n",
       "entertainment.events.noida                                       147\n",
       "sports.tennis.interviews                                         146\n",
       "indian-challenges                                                145\n",
       "maharashtra                                                      143\n",
       "elections.lok-sabha-elections-2019.madhya-pradesh.news           143\n",
       "entertainment.marathi                                            140\n",
       "entertainment.malayalam.movies.previews                          140\n",
       "entertainment.kannada.movies                                     140\n",
       "sports.tennis.australian-open-2015                               140\n",
       "entertainment.malayalam.movies.did-you-know                      137\n",
       "sports.india-in-west-indies-2016                                 136\n",
       "entertainment.telugu.movies.previews                             136\n",
       "budget-2015.rail-budget-2015                                     135\n",
       "sports.tennis.australian-open-2018                               134\n",
       "tv.news.gujarati                                                 134\n",
       "new-year                                                         133\n",
       "centre                                                           132\n",
       "tv.news                                                          131\n",
       "politics                                                         130\n",
       "silver-jubilee                                                   128\n",
       "elections.lok-sabha-elections-2019.rajasthan.news                128\n",
       "hyderabad                                                        127\n",
       "assembly-elections-2012.punjab                                   127\n",
       "union-budget-2011                                                127\n",
       "assembly-elections-2011.assam                                    126\n",
       "elections.lok-sabha-elections-2019.gujarat.news                  124\n",
       "elections.lok-sabha-elections-2019.kerala.news                   122\n",
       "sports.cricket.india-in-west-indies                              122\n",
       "elections.lok-sabha-elections-2019.west-bengal.news              122\n",
       "sports.rio-2016-olympics.news.athletics                          120\n",
       "ganesh-chaturthi                                                 120\n",
       "city.rajahmundry                                                 116\n",
       "other-top-stories                                                116\n",
       "pune                                                             116\n",
       "elections.assembly-elections.uttarakhand.news                    115\n",
       "mumbai                                                           113\n",
       "christmas                                                        111\n",
       "entertainment.tamil.movies.previews                              110\n",
       "formula-one                                                      109\n",
       "sports.tennis.us-open-2016                                       109\n",
       "entertainment.events.aurangabad                                  107\n",
       "home.specials.2014-assembly-elections.jammu-kashmir-news         106\n",
       "durga-puja                                                       105\n",
       "himachal-pradesh-assembly-elections                              105\n",
       "asian-games-2014.news                                            104\n",
       "entertainment.kannada                                            104\n",
       "life-style.health-fitness.home-remedies                          104\n",
       "sports.hockey.hockey-world-cup                                   104\n",
       "leisure                                                          103\n",
       "elections.lok-sabha-elections-2019.tamil-nadu.news               103\n",
       "entertainment.english.music                                      103\n",
       "home.specials.2014-assembly-elections.jharkhand-news             102\n",
       "home.environment.wild-wacky                                      102\n",
       "life-style.travel                                                100\n",
       "sports.cricket.asia-cup                                           99\n",
       "entertainment.bengali.movies.did-you-know                         98\n",
       "tarun-vijay.the-right-view                                        97\n",
       "entertainment.gujarati.theatre                                    97\n",
       "entertainment.telugu.movie-reviews                                97\n",
       "life-style.health-fitness                                         96\n",
       "campaign-trail                                                    96\n",
       "elections.lok-sabha-elections-2019.telangana.news                 95\n",
       "shobhaa-de.politically-incorrect                                  95\n",
       "entertainment.events.patna                                        95\n",
       "young-india-votes.news                                            95\n",
       "life-style.relationships                                          94\n",
       "sports.tennis.wimbledon-2014                                      93\n",
       "indian-badminton-league                                           93\n",
       "life-style.food                                                   92\n",
       "commonwealth-games-2014.news                                      92\n",
       "elections.lok-sabha-elections-2019.goa.news                       92\n",
       "sports.football.under-17-world-cup.news                           89\n",
       "players-to-watch                                                  89\n",
       "companies                                                         89\n",
       "sports.cricket.pakistan-in-australia                              88\n",
       "movie-reviews                                                     87\n",
       "tv.trade-news.hindi                                               87\n",
       "also-read                                                         87\n",
       "sports.new-zealand-in-india-2016.interviews                       86\n",
       "elections.assembly-elections.manipur.news                         86\n",
       "quickstir.lifestyle                                               86\n",
       "sports.golf.interviews                                            85\n",
       "valentines-day                                                    84\n",
       "entertainment.events.bhubaneswar                                  84\n",
       "gurcharan-das.men-ideas                                           84\n",
       "sports.tennis.french-open-2017                                    84\n",
       "sports.tennis.wimbledon-2016                                      84\n",
       "shashi-tharoor.shashi-on-sunday                                   83\n",
       "life-style.books.interviews                                       82\n",
       "sports.rio-2016-olympics.news.miscellaneous                       82\n",
       "bangalore                                                         82\n",
       "chidanand-rajghatta.indiaspora                                    82\n",
       "sars-scare.news                                                   81\n",
       "sports.rio-2016-olympics.news.aquatics                            81\n",
       "pro-kabaddi-league                                                81\n",
       "entertainment.bengali.theatre                                     80\n",
       "india-business-news-wire                                          79\n",
       "entertainment.marathi.movies                                      79\n",
       "entertainment.events.raipur                                       78\n",
       "entertainment.events.kolhapur                                     77\n",
       "republic-day                                                      76\n",
       "sports.expert-column.sunil-gavaskar                               76\n",
       "hot-on-the-web                                                    75\n",
       "others.parties                                                    75\n",
       "sports.cricket.australia-in-south-africa                          75\n",
       "rajasthan                                                         74\n",
       "best-products.todays-deals.paytm-mall                             73\n",
       "sports.rio-2016-olympics.news.tennis                              73\n",
       "elections.lok-sabha-elections-2019.haryana.news                   73\n",
       "iraq-hostage-drama                                                73\n",
       "entertainment.events.nashik                                       72\n",
       "quote-of-the-day                                                  72\n",
       "life-style.books.book-launches                                    71\n",
       "sports.football.copa-america-2015                                 70\n",
       "sports.wwe                                                        68\n",
       "elections.lok-sabha-elections-2019.punjab.news                    68\n",
       "birla-will-saga                                                   68\n",
       "gurgaon-shamed                                                    67\n",
       "entertainment.telugu.movies.box-office                            67\n",
       "it-services-news-wire                                             67\n",
       "indo-pak-monitor.news                                             67\n",
       "sports.tennis.wimbledon-2017                                      67\n",
       "sports.racing.interviews                                          66\n",
       "sports.cricket.south-africa-in-australia                          65\n",
       "pre-budget                                                        65\n",
       "sports.rio-2016-olympics.news.wrestling                           65\n",
       "sports.tennis.us-open-2014                                        64\n",
       "sports.rio-2016-olympics.india-in-olympics-2016.wrestling         64\n",
       "navaratra-2013                                                    64\n",
       "young-india-votes.from-the-states                                 64\n",
       "sports.icc-world-t20-2016.interviews                              63\n",
       "assembly-elections-2011.kerala                                    63\n",
       "2010-stars                                                        61\n",
       "west-bengal                                                       61\n",
       "sports.cricket                                                    61\n",
       "onam                                                              61\n",
       "sports.rio-2016-olympics.news.badminton                           60\n",
       "assembly-elections-2013.mizoram-assembly-elections                60\n",
       "madhya-pradesh                                                    60\n",
       "vinita-dawra-nangia                                               59\n",
       "election-2008                                                     59\n",
       "sports.cricket.india-domestic                                     59\n",
       "reporters-diary                                                   58\n",
       "assembly-elections-2012.manipur                                   58\n",
       "sports.cricket.bangladesh-in-india                                58\n",
       "sports.cricket.new-zealand-in-india                               58\n",
       "karnatka                                                          57\n",
       "jug-suraiya.second-opinion                                        57\n",
       "sports.rio-2016-olympics.india-in-olympics-2016.badminton         57\n",
       "ranji-trophy                                                      57\n",
       "times-quality-of-life-survey-                                     57\n",
       "olympics                                                          57\n",
       "tech.pcs                                                          57\n",
       "sports.cricket.icc-womens-world-cup-2017                          56\n",
       "entertainment.events.chandigarh                                   56\n",
       "sports.ipl.interviews                                             56\n",
       "sports.tennis.international-premier-tennis-league                 56\n",
       "gandhi-jayanti                                                    56\n",
       "sports.rio-2016-olympics.news.gymnastics                          55\n",
       "entertainment.gujarati.movies                                     54\n",
       "elections.lok-sabha-elections-2019.odisha.news                    54\n",
       "nagpur                                                            54\n",
       "economic-survey                                                   54\n",
       "elections.assembly-elections.andhra-pradesh                       54\n",
       "swine-flu-outbreak-in-india                                       53\n",
       "toi-social-impact-awards-2013                                     53\n",
       "star-candidates                                                   52\n",
       "home.infographics                                                 51\n",
       "sports.football.world-cup-2014.interviews                         50\n",
       "questions-and-answers                                             50\n",
       "sports.cricket.west-indies-in-england                             50\n",
       "elections.lok-sabha-elections-2019.uttarakhand.news               50\n",
       "sports.football.indian-super-league.interviews                    50\n",
       "elections.assembly-elections.chhattisgarh                         50\n",
       "sports.2016-asia-cup                                              49\n",
       "baroda                                                            49\n",
       "auto.bikes                                                        49\n",
       "india-hopes                                                       48\n",
       "sports.tennis.wimbledon-2018                                      48\n",
       "corporate-espionage-in-ministries                                 48\n",
       "sports.cricket.bangladesh-in-new-zealand                          47\n",
       "life-style.debate                                                 47\n",
       "venues                                                            46\n",
       "swapan-dasgupta.right-wrong                                       46\n",
       "sports.tennis.french-open                                         45\n",
       "sports.nfl.news                                                   45\n",
       "sports.cricket.india-sri-lanka-bangladesh-tri-series              44\n",
       "queens-baton-relay                                                43\n",
       "rail-budget-2011                                                  43\n",
       "raksha-bandhan-2013                                               43\n",
       "chandigarh                                                        42\n",
       "sports.cricket.u-19-world-cup                                     42\n",
       "times-news-radio                                                  42\n",
       "other-racing.a1-gp                                                42\n",
       "tv.trade-news.tamil                                               42\n",
       "ayodhya-imbroglio                                                 41\n",
       "business.faqs.income-tax-faqs                                     41\n",
       "viral-news                                                        41\n",
       "budget-2015.common-man                                            41\n",
       "odisha                                                            41\n",
       "pravasi-bhartiya-news                                             41\n",
       "sports.football.epl.interviews                                    41\n",
       "business.mf-simplified.mf-news                                    41\n",
       "war-on-iraq.opinion                                               40\n",
       "life-style.health-fitness.health                                  40\n",
       "mj-akbar.the-siege-within                                         40\n",
       "elections.lok-sabha-elections-2019.jharkhand.news                 39\n",
       "chhattisgarh                                                      39\n",
       "passport-pangs                                                    39\n",
       "litfest.litfest-delhi.news                                        39\n",
       "miscellaneous                                                     39\n",
       "sports.rio-2016-olympics.news.shooting                            39\n",
       "santosh-desai.city-city-bang-bang                                 39\n",
       "sports.cricket.icc-world-cup.teams.new-zealand.news               39\n",
       "sports.yearender-2016                                             39\n",
       "schedule                                                          38\n",
       "haryana                                                           38\n",
       "elections.lok-sabha-elections-2019.punjab                         38\n",
       "sports.nba.off-the-court                                          38\n",
       "teachers-day                                                      37\n",
       "sports.headline5                                                  37\n",
       "players-profiles                                                  37\n",
       "entertainment.marathi.movie-reviews                               37\n",
       "sports.more-sports                                                37\n",
       "anti-terror-law                                                   36\n",
       "sports.rio-2016-olympics.news.boxing                              36\n",
       "uttarakhand                                                       36\n",
       "sports.rio-2016-olympics.news.hockey                              36\n",
       "aap-crisis                                                        36\n",
       "elections.lok-sabha-elections-2019.andhra-pradesh.news            36\n",
       "sports.rio-2016-olympics.india-in-olympics-2016.hockey            36\n",
       "history                                                           36\n",
       "good-day-good-news                                                35\n",
       "text-after-pic                                                    35\n",
       "budget-2015.you-taxes-2015                                        35\n",
       "top-news-of-2011                                                  35\n",
       "sports.hockey.champions-trophy-2014                               35\n",
       "heads-and-tales                                                   35\n",
       "tv.trade-news.malayalam                                           34\n",
       "home.auto                                                         34\n",
       "young-guns                                                        34\n",
       "life-style.food.quick-food                                        34\n",
       "elections.assembly-elections.mizoram                              34\n",
       "sports.cricket.west-indies-in-new-zealand                         34\n",
       "ambani                                                            33\n",
       "sports.cricket.icc-world-cup.teams.england.news                   33\n",
       "pm-on-china-visit.news                                            33\n",
       "life-style.specials                                               33\n",
       "rupee-symbol-survey                                               33\n",
       "sports.rio-2016-olympics.news.cycling                             33\n",
       "sports.cricket.pakistan-in-new-zealand                            33\n",
       "international-womens-day                                          33\n",
       "asian-games-2014.venues                                           33\n",
       "andhra-pradesh                                                    33\n",
       "elections.assembly-elections.odisha                               32\n",
       "budget-2015.politics-budget-2015                                  32\n",
       "sports.rio-2016-olympics.india-in-olympics-2016.athletics         32\n",
       "gujarat                                                           32\n",
       "sports.cricket.south-africa-in-india                              32\n",
       "sports.tennis.us-open-2019                                        31\n",
       "elections.lok-sabha-elections-2019.assam.news                     31\n",
       "humour.social-humour                                              31\n",
       "budget-2015.economic-survey-2015                                  31\n",
       "liverpool                                                         31\n",
       "business.mf-simplified.jargon-busters.debt                        31\n",
       "sports.rio-2016-olympics.india-in-olympics-2016.tennis            31\n",
       "sports.rio-2016-olympics.news.football                            30\n",
       "entertainment.kannada.movies.previews                             30\n",
       "entertainment.gujarati                                            30\n",
       "entertainment.punjabi.movies.did-you-know                         30\n",
       "bihar-assembly-polls                                              29\n",
       "goa                                                               29\n",
       "delhis-century                                                    29\n",
       "entertainment.tamil                                               29\n",
       "sports.headline4                                                  29\n",
       "sports.rio-2016-olympics.india-in-olympics-2016.shooting          29\n",
       "most-searched-products.todays-deals.amazon                        29\n",
       "articles                                                          28\n",
       "young-india-votes.deep-focus                                      28\n",
       "vote-maadi                                                        28\n",
       "sports.rio-2016-olympics.news                                     28\n",
       "assembly-elections-2012.uttarakhand                               28\n",
       "pm-on-europe-tour.news                                            28\n",
       "best-products.fashion.accessories                                 28\n",
       "tamil-nadu                                                        27\n",
       "lohri                                                             27\n",
       "mumbai-pluses                                                     27\n",
       "times-litfest-bengaluru-complete-coverage                         27\n",
       "complete-results-2009                                             27\n",
       "life-style.fashion.specials                                       27\n",
       "india-challenges                                                  27\n",
       "nrs-2003                                                          27\n",
       "features                                                          27\n",
       "sports.tennis.wimbledon-2019                                      27\n",
       "tv.trade-news.telugu                                              26\n",
       "sports.racing.schumacher-battling-for-life                        26\n",
       "entertainment.hindi.specials                                      26\n",
       "sports.cricket.sri-lanka-in-south-africa                          26\n",
       "people                                                            26\n",
       "teams                                                             26\n",
       "kolkata                                                           25\n",
       "sunderland                                                        25\n",
       "goa-plus                                                          25\n",
       "trend-tracking                                                    25\n",
       "sports.winter-olympics                                            25\n",
       "best-products.beauty.skin-care                                    25\n",
       "sports.cricket.icc-womens-world-t20                               25\n",
       "arsenal                                                           25\n",
       "sports.cricket.icc-world-cup.teams.india                          25\n",
       "sports.tennis.french-open-2018                                    25\n",
       "manchester-city                                                   25\n",
       "recipes                                                           25\n",
       "sports.cricket.sri-lanka-in-pakistan                              24\n",
       "elections.lok-sabha-elections-2019.chandigarh.news                24\n",
       "sports.cricket.england-in-new-zealand                             24\n",
       "bolton-wanderers                                                  24\n",
       "telangana                                                         24\n",
       "chelsea                                                           24\n",
       "sports.cricket.england-in-bangladesh                              24\n",
       "life-style.relationships.specials                                 24\n",
       "sports.rio-2016-olympics.india-in-olympics-2016.gymnastics        24\n",
       "past-winners                                                      24\n",
       "health-news-corner                                                23\n",
       "ad-links                                                          23\n",
       "asian-games-2014.medal-tally                                      23\n",
       "sports.cricket.icc-world-cup.teams.pakistan.news                  23\n",
       "sports.rio-2016-olympics.profiles.athletics                       23\n",
       "elections.lok-sabha-elections-2019.uttar-pradesh                  23\n",
       "audi-cars                                                         23\n",
       "spirituality.https.timesofindia-speakingtree-in.article           23\n",
       "world-environment-day.world-environment-day-stories               22\n",
       "everton                                                           22\n",
       "life-style.parenting.moments                                      22\n",
       "young-india-votes.gallup-poll                                     22\n",
       "stoke-city                                                        22\n",
       "tendulkar                                                         22\n",
       "teams-players                                                     22\n",
       "friendship-day                                                    22\n",
       "mahashivratri                                                     22\n",
       "manchester-united                                                 22\n",
       "quickstir.entertainment                                           22\n",
       "janmashtami-2013                                                  22\n",
       "tottenham-hotspur                                                 22\n",
       "elections.assembly-elections.maharashtra                          22\n",
       "fulham                                                            22\n",
       "sports.cricket.afghanistan-tour-of-india                          21\n",
       "sports.cricket.new-zealand-in-australia                           21\n",
       "blackburn-rovers                                                  21\n",
       "conversion.ghar-wapsi-complete-coverage                           21\n",
       "aston-villa                                                       21\n",
       "cwg-history                                                       21\n",
       "entertainment.marathi.movies.did-you-know                         21\n",
       "schedule-results                                                  21\n",
       "delhi-ncr-pluses                                                  20\n",
       "drivers                                                           20\n",
       "wigan-athletic                                                    20\n",
       "maharashtra-ngo                                                   20\n",
       "regional.tamil                                                    20\n",
       "punjab                                                            20\n",
       "sports.rio-2016-olympics.news.judo                                20\n",
       "entertainment.events.ranchi                                       20\n",
       "bihar                                                             20\n",
       "elections.assembly-elections.himachal-pradesh                     20\n",
       "pune-pluses                                                       20\n",
       "newcastle-united                                                  20\n",
       "2011-top-stories                                                  20\n",
       "sports.rio-2016-olympics.news.archery                             20\n",
       "twin-city-pluses                                                  20\n",
       "sports.rio-2016-olympics.news.golf                                20\n",
       "maharashtra-pluses                                                20\n",
       "best-products.fashion.womens-fashion                              20\n",
       "elections.interactives                                            20\n",
       "2011-top-slideshow                                                20\n",
       "dussehra                                                          20\n",
       "up-pluses                                                         20\n",
       "eid-ul-fitr                                                       20\n",
       "fight-dengue.news                                                 20\n",
       "auto.launches                                                     20\n",
       "asian-games-2014.sports                                           19\n",
       "food-facts                                                        19\n",
       "sports.ipl-2015.news                                              19\n",
       "elections.lok-sabha-elections-2019                                19\n",
       "sports.football.epl.club-profiles.profiles                        19\n",
       "sports.tennis.french-open-2016                                    19\n",
       "life-style.food.specials                                          19\n",
       "world-heart-day                                                   19\n",
       "bobilli-vijay-kumar                                               19\n",
       "sports.cricket.australia-in-england                               19\n",
       "entertainment.punjabi.movies                                      19\n",
       "donts                                                             19\n",
       "top-news-of-2012                                                  19\n",
       "venture-capital                                                   19\n",
       "2014-sochi-winter-olympics                                        19\n",
       "advisory                                                          19\n",
       "life-style-landing.health-fitness.health-news                     19\n",
       "west-bengal-pluses                                                19\n",
       "tv.trade-news.gujarati                                            19\n",
       "best-products.amazon-deals                                        19\n",
       "circuits.formula-one                                              19\n",
       "hay-festival                                                      19\n",
       "best-products.gift-ideas                                          19\n",
       "tv.trade-news.kannada                                             19\n",
       "sports.cricket.icc-world-cup.teams.australia.news                 18\n",
       "sino-indian-ties                                                  18\n",
       "life-style.health-fitness.specials                                18\n",
       "stars-speak                                                       18\n",
       "sports.cricket.pakistan-v-west-indies                             18\n",
       "sports.tennis.australian-open                                     18\n",
       "entertainment.marathi.movies.previews                             18\n",
       "entertainment.english.music.music-videos                          18\n",
       "sports.tennis.australian-open-2015.indian-challenge               18\n",
       "only-in-america                                                   18\n",
       "elections.lok-sabha-elections-2019.himachal-pradesh.news          18\n",
       "down-memory-lane                                                  18\n",
       "all-colour-edition                                                17\n",
       "sports.cricket.australia-in-bangladesh                            17\n",
       "muharram                                                          17\n",
       "best-products.mobile-phones                                       17\n",
       "sports.rio-2016-olympics.news.weightlifting                       17\n",
       "sports.cricket.pakistan-in-england                                17\n",
       "entertainment.bengali.movies.previews                             17\n",
       "sports.sri-lanka-in-india                                         17\n",
       "entertainment.bengali                                             17\n",
       "budget-2015                                                       17\n",
       "madras-plus                                                       17\n",
       "budget-2015.student                                               17\n",
       "thirupuram                                                        17\n",
       "childrens-day                                                     17\n",
       "analysis                                                          16\n",
       "ahmedabad-events                                                  16\n",
       "astrology.hindu-mythology                                         16\n",
       "entertainment.english                                             16\n",
       "pre-budget-2011                                                   16\n",
       "cwg-stars                                                         16\n",
       "assembly-elections-2011.puducherry                                16\n",
       "red-hot                                                           16\n",
       "elections.lok-sabha-elections-2019.west-bengal                    16\n",
       "elections.assembly-elections.uttar-pradesh.interactives           16\n",
       "news-features                                                     16\n",
       "assembly-elections-2011.assembly-elections-results                15\n",
       "sports.cricket.icc-world-cup.teams.south-africa.news              15\n",
       "sports.cricket.sri-lanka-in-west-indies                           15\n",
       "sports.cricket.india-in-new-zealand                               15\n",
       "sports.cricket.icc-world-cup.player-of-the-day                    15\n",
       "elections.assembly-elections.uttar-pradesh                        15\n",
       "young-india-votes.talking-point                                   15\n",
       "missile-game                                                      15\n",
       "sports.ipl                                                        15\n",
       "commonwealth-games-2014.medals-tally                              15\n",
       "west-bromwich-albion                                              15\n",
       "tv.trade-news.marathi                                             15\n",
       "spirituality.https.timesofindia-speakingtree-in.allslides         15\n",
       "world-aids-day                                                    15\n",
       "sports.cricket.south-africa-in-england                            15\n",
       "business.faqs.aadhar-faqs                                         15\n",
       "fathers-day-2013                                                  14\n",
       "education                                                         14\n",
       "sports.cricket.pakistan-in-west-indies                            14\n",
       "sports.rio-2016-olympics.india-in-olympics-2016.boxing            14\n",
       "sports.cricket.bangladesh-in-south-africa                         14\n",
       "year-ender-2015.december                                          14\n",
       "columbia-crash                                                    14\n",
       "entertainment.tamil.movies                                        14\n",
       "raksha-bandhan.rakhi-stories                                      14\n",
       "astrology.rituals-puja                                            14\n",
       "elections.assembly-elections.haryana                              14\n",
       "sports.cricket.world-cup-qualifiers                               14\n",
       "uttar-pradesh-ngo                                                 14\n",
       "get-healthy-get-fit                                               14\n",
       "elections.lok-sabha-elections-2019.chandigarh                     14\n",
       "gujarat-pluses                                                    14\n",
       "the-himalayan-blunder                                             14\n",
       "sports.nba.team-profiles                                          14\n",
       "others.previews                                                   14\n",
       "world-no-tobacco-day.no-tobacco-day-stories                       14\n",
       "sports.tennis.australian-open-2015.interviews                     14\n",
       "sports.rio-2016-olympics.india-in-olympics-2016.golf              13\n",
       "sports.football.2017-u-17-world-cup                               13\n",
       "guru-nanak-jayanti                                                13\n",
       "sports.football.epl.past-winners                                  13\n",
       "gujarat-ngo                                                       13\n",
       "humour.third-edit                                                 13\n",
       "best-products.electronics.cameras                                 13\n",
       "elections.lok-sabha-elections-2019.haryana                        13\n",
       "toi-social-impact-awards-2015                                     13\n",
       "best-products.beauty.makeup-tips                                  13\n",
       "news.hardware                                                     13\n",
       "afghan-children                                                   13\n",
       "entertainment.bengali.movies                                      13\n",
       "iit-bengaluru                                                     13\n",
       "timeline                                                          13\n",
       "karnatka-ngo                                                      13\n",
       "dos                                                               13\n",
       "best-products.fashion.mens-fashion                                13\n",
       "jaipur                                                            13\n",
       "entertainment.bhojpuri.movies.did-you-know                        12\n",
       "travel                                                            12\n",
       "entertainment.punjabi.movies.previews                             12\n",
       "entertainment.english.specials                                    12\n",
       "spotlight                                                         12\n",
       "chevrolet-cars                                                    12\n",
       "life-style.health-fitness.homeopathy                              12\n",
       "sports.rio-2016-olympics.news.basketball                          12\n",
       "diwali-rituals                                                    12\n",
       "year-ender-2015.february                                          12\n",
       "user-generated                                                    12\n",
       "year-ender-2015.january                                           12\n",
       "budget-2015.women                                                 12\n",
       "elections.lok-sabha-elections-2019.jammu-and-kashmir.news         12\n",
       "mp-pluses                                                         12\n",
       "sports.football.under-17-world-cup                                12\n",
       "top-news-of-2008                                                  12\n",
       "years-headline-makers                                             12\n",
       "sports.rio-2016-olympics.india-in-olympics-2016.archery           12\n",
       "home                                                              12\n",
       "sports.headline2                                                  12\n",
       "venus-transit                                                     11\n",
       "jugular-vein                                                      11\n",
       "best-products.fashion.footwear                                    11\n",
       "sports.tennis.us-open-2018                                        11\n",
       "life-style.listen-to-your-sugar                                   11\n",
       "friendship-day-2012                                               11\n",
       "elections.assembly-elections.punjab                               11\n",
       "pakistan-postcard                                                 11\n",
       "hyundai-cars                                                      11\n",
       "education-fest.united-kingdom.stories                             11\n",
       "regional.kannada                                                  11\n",
       "sports.racing.f1-teams                                            11\n",
       "indians-abroad                                                    11\n",
       "player-profile                                                    11\n",
       "economic-survey-2011                                              11\n",
       "life-style.parenting.toddler-year-and-beyond                      11\n",
       "sports.cricket.australia-in-new-zealand                           11\n",
       "sports.cricket.icc-world-cup.teams.sri-lanka.news                 11\n",
       "poll-pourri                                                       11\n",
       "sports.india-in-zimbabwe-2016                                     10\n",
       "deep.pathankot-terrorist-attack.questions-and-answers             10\n",
       "ahmedabad                                                         10\n",
       "young-india-votes.aaj-ka-neta                                     10\n",
       "comunistst                                                        10\n",
       "fathers-day.fathers-day-stories                                   10\n",
       "kerala                                                            10\n",
       "other-racing.moto-gp                                              10\n",
       "life-style.food.bar-reviews                                       10\n",
       "2013-the-year-sachin-bids-adieu.more-sports-2013                  10\n",
       "budget-2015.opinion                                               10\n",
       "top-videos                                                        10\n",
       "lodge-a-complaint                                                 10\n",
       "world-cup-venues                                                  10\n",
       "apply-for                                                         10\n",
       "chidanand-rajghatta.desiderata                                    10\n",
       "tv.specials.kannada                                               10\n",
       "unsw.study-at-unsw                                                10\n",
       "2008-in-pictures                                                  10\n",
       "sports.racing.tech-tonic                                          10\n",
       "uber-cab-rape-case                                                10\n",
       "tech-news-news-wire                                               10\n",
       "bmw-cars                                                          10\n",
       "chattisgarh                                                       10\n",
       "best-products.electronics.headphones                              10\n",
       "sports.rio-2016-olympics.profiles.mens-hockey                     10\n",
       "mahavir-jayanti.mahavir-jayanti-stories                            9\n",
       "north-east-pluses                                                  9\n",
       "janmashtami.janmashtami-stories                                    9\n",
       "matches-results                                                    9\n",
       "nagpur-pluses                                                      9\n",
       "swaminomics                                                        9\n",
       "honda-cars                                                         9\n",
       "budget-2015.homemaker                                              9\n",
       "glamour-the-game.stories                                           9\n",
       "air-pollution                                                      9\n",
       "new-test-audio                                                     9\n",
       "brandwire.services.education                                       9\n",
       "special-coverage.other-specials                                    9\n",
       "west-bengal-ngo                                                    9\n",
       "sports.cricket.icc-world-cup.teams.west-indies.news                9\n",
       "best-products.kitchen-and-dining.small-appliances                  9\n",
       "years-young-achievers                                              9\n",
       "sports.rio-2016-olympics.news.volleyball                           9\n",
       "humour.mocktale                                                    9\n",
       "business.mf-simplified.jargon-busters.equity                       9\n",
       "world-cancer-day                                                   9\n",
       "shop                                                               9\n",
       "certificates                                                       9\n",
       "madhya-pradesh-ngo                                                 9\n",
       "world-environment-day                                              9\n",
       "popular-shows                                                      9\n",
       "everything-you-need-to-know                                        9\n",
       "sports.rio-2016-olympics.news.canoe-kayak                          9\n",
       "world.us.india-and-us                                              9\n",
       "teams-profile                                                      9\n",
       "vday-articles                                                      9\n",
       "sports.cricket.sri-lanka-in-new-zealand                            9\n",
       "elections.bihar-elections-2015.news-coverage                       9\n",
       "sports.rio-2016-olympics.news.sailing                              8\n",
       "year-ender-2015.march                                              8\n",
       "himachal-pradesh                                                   8\n",
       "health-case-studies                                                8\n",
       "mahindra-cars                                                      8\n",
       "brandwire.technology.internet-apps                                 8\n",
       "elections.assembly-elections.goa                                   8\n",
       "best-products.home-decor-and-garden.living-room-decor              8\n",
       "sports.cricket.sri-lanka-in-australia                              8\n",
       "sports.tennis.top-stories.tennis-atp                               8\n",
       "brandwire.media-entertainment.newspapers-magazines-books           8\n",
       "2013-the-year-sachin-bids-adieu.football-2013                      8\n",
       "preeti-shenoy                                                      8\n",
       "editorialt                                                         8\n",
       "advanis-us-visit                                                   8\n",
       "sports.football.indian-super-league.team-profiles                  8\n",
       "business.faqs.gst-faqs                                             8\n",
       "sports.asian-games-2018                                            8\n",
       "young-turks                                                        8\n",
       "entertainment.hindi.music.singer-of-the-week                       8\n",
       "sports.hockey.hockey-world-cup-2014                                8\n",
       "lifespan-news                                                      8\n",
       "sports.cricket.south-africa-in-sri-lanka                           8\n",
       "indias-vision                                                      8\n",
       "business.mf-simplified.faq                                         8\n",
       "scorecard-and-statistics                                           8\n",
       "2013-the-year-sachin-bids-adieu.tennis-2013                        8\n",
       "sports.hockey.hockey-india-league.interviews                       8\n",
       "sports.cricket.icc-world-cup.teams.england                         8\n",
       "elections.lok-sabha-elections-2019.tripura.news                    8\n",
       "best-products.beauty.grooming                                      8\n",
       "nepal-india-earthquake.opinion                                     8\n",
       "pms-us-visit                                                       8\n",
       "iim-fee-row                                                        8\n",
       "sports.cricket.bangladesh-in-west-indies                           8\n",
       "profiles.india-profiles                                            8\n",
       "delhi-ncr                                                          7\n",
       "actresses                                                          7\n",
       "sports.cricket.icc-world-test-championship                         7\n",
       "sports.headline3                                                   7\n",
       "ballot-talk                                                        7\n",
       "did-you-know                                                       6\n",
       "tv.trade-news.bengali                                              6\n",
       "auto.reviews                                                       6\n",
       "life-style.parenting.teen                                          5\n",
       "life-style.parenting.pregnancy                                     4\n",
       "life-style.parenting.getting-pregnant                              4\n",
       "sports.headline6                                                   3\n",
       "sports.tokyo-olympics                                              2\n",
       "life-style.parenting.ask-the-expert                                2\n",
       "world.us.us-and-world                                              2\n",
       "party-manifestos                                                   2\n",
       "world.us.gun-violence-and-crimes                                   1\n",
       "times-fact-check.news                                              1\n",
       "Name: headline_category, dtype: int64"
      ]
     },
     "execution_count": 49,
     "metadata": {
      "tags": []
     },
     "output_type": "execute_result"
    }
   ],
   "source": [
    "df1['headline_category'].value_counts()"
   ]
  },
  {
   "cell_type": "code",
   "execution_count": null,
   "metadata": {
    "colab": {
     "base_uri": "https://localhost:8080/",
     "height": 537
    },
    "id": "MpzMbLSNMkqi",
    "outputId": "eadd3be2-1ad5-448e-e3c0-149ab3e691e4"
   },
   "outputs": [
    {
     "data": {
      "image/png": "[encoded data removed]",
      "text/plain": [
       "<Figure size 720x648 with 1 Axes>"
      ]
     },
     "metadata": {
      "needs_background": "light",
      "tags": []
     },
     "output_type": "display_data"
    }
   ],
   "source": [
    "df1['headline_text'].str.len().hist()\n",
    "plt.show()"
   ]
  },
  {
   "cell_type": "markdown",
   "metadata": {
    "id": "ObvY12X1Mkqi"
   },
   "source": [
    "* Graph shows that news headlines range from 10 to 120 characters generally."
   ]
  },
  {
   "cell_type": "code",
   "execution_count": null,
   "metadata": {
    "id": "YFuuzmUhRbFy"
   },
   "outputs": [],
   "source": [
    "def basic_clean(text):\n",
    "        wnl = nltk.stem.WordNetLemmatizer()\n",
    "        stopwords = nltk.corpus.stopwords.words('english')\n",
    "        words = re.sub(r'[^\\w\\s]', '', text).split()\n",
    "        return [wnl.lemmatize(word) for word in words if word not in stopwords]"
   ]
  },
  {
   "cell_type": "code",
   "execution_count": null,
   "metadata": {
    "colab": {
     "base_uri": "https://localhost:8080/"
    },
    "id": "zuZaDO9uRbNS",
    "outputId": "daef330d-1ae1-4fd6-d651-38580fdb1b22"
   },
   "outputs": [
    {
     "data": {
      "text/plain": [
       "['win',\n",
       " 'cena',\n",
       " 'satisfying',\n",
       " 'defeating',\n",
       " 'undertaker',\n",
       " 'bigger',\n",
       " 'roman',\n",
       " 'reign',\n",
       " 'Status',\n",
       " 'quo']"
      ]
     },
     "execution_count": 85,
     "metadata": {
      "tags": []
     },
     "output_type": "execute_result"
    }
   ],
   "source": [
    "words = basic_clean(''.join(str(df1['headline_text'].tolist())))\n",
    "words[:10]"
   ]
  },
  {
   "cell_type": "markdown",
   "metadata": {
    "id": "jwRacwVTTBwT"
   },
   "source": [
    "# ii) N-Gram Analysis\n",
    "* In the fields of computational linguistics and probability, an n-gram is a contiguous sequence of n items from a given sample of text or speech. The items can be phonemes, syllables, letters, words or base pairs according to the application. The n-grams typically are collected from a text or speech corpus. When the items are words, n-grams may also be called shingles.\n",
    "## N-gram Analysis - Unigram, Bigram and Trigram"
   ]
  },
  {
   "cell_type": "markdown",
   "metadata": {
    "id": "etKjhUkdToop"
   },
   "source": [
    "# a) Unigram Analysis"
   ]
  },
  {
   "cell_type": "code",
   "execution_count": null,
   "metadata": {
    "id": "lvb1ScjyRbLm"
   },
   "outputs": [],
   "source": [
    "words_unigram_series = (pd.Series(nltk.ngrams(words, 1)).value_counts())[:20]"
   ]
  },
  {
   "cell_type": "code",
   "execution_count": null,
   "metadata": {
    "colab": {
     "base_uri": "https://localhost:8080/",
     "height": 530
    },
    "id": "-4adgA1mRbKQ",
    "outputId": "09f6f1ab-a1d7-474b-f831-7ae29f4dbe48"
   },
   "outputs": [
    {
     "data": {
      "text/plain": [
       "Text(0.5, 0, '# of Occurances')"
      ]
     },
     "execution_count": 87,
     "metadata": {
      "tags": []
     },
     "output_type": "execute_result"
    },
    {
     "data": {
      "image/png": "[encoded data removed]",
      "text/plain": [
       "<Figure size 864x576 with 1 Axes>"
      ]
     },
     "metadata": {
      "needs_background": "light",
      "tags": []
     },
     "output_type": "display_data"
    }
   ],
   "source": [
    "words_unigram_series.sort_values().plot.barh(color='lightcoral', width=.9, figsize=(12, 8))\n",
    "plt.title('20 Most Frequently Occuring Unigrams - India News Headlines')\n",
    "plt.ylabel('Bigram')\n",
    "plt.xlabel('# of Occurances')"
   ]
  },
  {
   "cell_type": "markdown",
   "metadata": {
    "id": "8DkjLApNTtJa"
   },
   "source": [
    "# b) Bigram Analysis"
   ]
  },
  {
   "cell_type": "code",
   "execution_count": null,
   "metadata": {
    "id": "7HUlpjHbSG2Y"
   },
   "outputs": [],
   "source": [
    "words_bigrams_series = (pd.Series(nltk.ngrams(words, 2)).value_counts())[:20]"
   ]
  },
  {
   "cell_type": "code",
   "execution_count": null,
   "metadata": {
    "colab": {
     "base_uri": "https://localhost:8080/",
     "height": 530
    },
    "id": "W4hF1qcUSHD-",
    "outputId": "c26964e9-6ad5-42a4-fa61-b9941166adaa"
   },
   "outputs": [
    {
     "data": {
      "text/plain": [
       "Text(0.5, 0, '# of Occurances')"
      ]
     },
     "execution_count": 89,
     "metadata": {
      "tags": []
     },
     "output_type": "execute_result"
    },
    {
     "data": {
      "image/png": "[encoded data removed]",
      "text/plain": [
       "<Figure size 864x576 with 1 Axes>"
      ]
     },
     "metadata": {
      "needs_background": "light",
      "tags": []
     },
     "output_type": "display_data"
    }
   ],
   "source": [
    "words_bigrams_series.sort_values().plot.barh(color='thistle', width=.9, figsize=(12, 8))\n",
    "plt.title('20 Most Frequently Occuring Bigrams - India News Headlines')\n",
    "plt.ylabel('Bigram')\n",
    "plt.xlabel('# of Occurances')"
   ]
  },
  {
   "cell_type": "markdown",
   "metadata": {
    "id": "EepK5uh5TyDQ"
   },
   "source": [
    "# c) Trigram Analysis"
   ]
  },
  {
   "cell_type": "code",
   "execution_count": null,
   "metadata": {
    "colab": {
     "base_uri": "https://localhost:8080/",
     "height": 530
    },
    "id": "JaQTFKHASHCw",
    "outputId": "d1666beb-ffa2-409b-871f-302cdcd767bd"
   },
   "outputs": [
    {
     "data": {
      "text/plain": [
       "Text(0.5, 0, '# of Occurances')"
      ]
     },
     "execution_count": 90,
     "metadata": {
      "tags": []
     },
     "output_type": "execute_result"
    },
    {
     "data": {
      "image/png": "[encoded data removed]",
      "text/plain": [
       "<Figure size 864x576 with 1 Axes>"
      ]
     },
     "metadata": {
      "needs_background": "light",
      "tags": []
     },
     "output_type": "display_data"
    }
   ],
   "source": [
    "words_trigrams_series = (pd.Series(nltk.ngrams(words, 3)).value_counts())[:20]\n",
    "words_trigrams_series.sort_values().plot.barh(color='darksalmon', width=.9, figsize=(12, 8))\n",
    "plt.title('20 Most Frequently Occuring Trigrams - India News Headlines')\n",
    "plt.ylabel('Trigram')\n",
    "plt.xlabel('# of Occurances')"
   ]
  },
  {
   "cell_type": "markdown",
   "metadata": {
    "id": "I3KaRc8SMkqk"
   },
   "source": [
    "# Conclusion\n",
    "### Inorder to complete this GRIP-Task 7 , we have created a hybrid model for stock price/performance prediction using numerical analysis of historical stock prices, and sentimental analysis of news headlines Stock to analyze and predict - SENSEX (S&P BSE SENSEX) is also completed and in addition to the same we have done the n gram analysis and have ploted the outputs graphically.\n",
    "## Completed Task 7.\n",
    "### Thank you for going through this solution"
   ]
  }
 ],
 "metadata": {
  "accelerator": "GPU",
  "colab": {
   "collapsed_sections": [
    "mecSomtFMkqd",
    "bfE2cJBKMkqe",
    "I3KaRc8SMkqk"
   ],
   "name": "GRIP-Task7-Stock Market Prediction using Numerical and Textual Analysis.ipynb",
   "provenance": [],
   "toc_visible": true
  },
  "kernelspec": {
   "display_name": "Python 3",
   "language": "python",
   "name": "python3"
  },
  "language_info": {
   "codemirror_mode": {
    "name": "ipython",
    "version": 3
   },
   "file_extension": ".py",
   "mimetype": "text/x-python",
   "name": "python",
   "nbconvert_exporter": "python",
   "pygments_lexer": "ipython3",
   "version": "3.7.3"
  }
 },
 "nbformat": 4,
 "nbformat_minor": 1
}
